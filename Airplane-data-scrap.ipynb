{
 "cells": [
  {
   "cell_type": "code",
   "execution_count": 18,
   "metadata": {},
   "outputs": [],
   "source": [
    "# Import the required packages\n",
    "from selenium import webdriver \n",
    "from webdriver_manager.chrome import ChromeDriverManager\n",
    "from bs4 import BeautifulSoup\n",
    "import time\n",
    "\n",
    "from selenium.webdriver.support import expected_conditions as EC\n",
    "from selenium.webdriver.common.by import By\n",
    "from selenium.webdriver.support.ui import WebDriverWait as wait\n",
    "from selenium.webdriver.common.action_chains import ActionChains\n",
    "\n",
    "from selenium.common.exceptions import NoSuchElementException\n",
    "import requests\n",
    "import pandas as pd\n"
   ]
  },
  {
   "cell_type": "code",
   "execution_count": null,
   "metadata": {},
   "outputs": [],
   "source": []
  },
  {
   "cell_type": "code",
   "execution_count": 3,
   "metadata": {},
   "outputs": [
    {
     "name": "stderr",
     "output_type": "stream",
     "text": [
      "[WDM] - Current google-chrome version is 84.0.4147\n",
      "[WDM] - Get LATEST driver version for 84.0.4147\n"
     ]
    },
    {
     "name": "stdout",
     "output_type": "stream",
     "text": [
      " \n"
     ]
    },
    {
     "name": "stderr",
     "output_type": "stream",
     "text": [
      "[WDM] - Get LATEST driver version for 84.0.4147\n",
      "[WDM] - Trying to download new driver from http://chromedriver.storage.googleapis.com/84.0.4147.30/chromedriver_win32.zip\n",
      "[WDM] - Driver has been saved in cache [C:\\Users\\ING Shito3\\.wdm\\drivers\\chromedriver\\win32\\84.0.4147.30]\n"
     ]
    }
   ],
   "source": [
    "browser = webdriver.Chrome(ChromeDriverManager().install())"
   ]
  },
  {
   "cell_type": "code",
   "execution_count": null,
   "metadata": {},
   "outputs": [],
   "source": []
  },
  {
   "cell_type": "code",
   "execution_count": 5,
   "metadata": {},
   "outputs": [
    {
     "data": {
      "text/html": [
       "<div>\n",
       "<style scoped>\n",
       "    .dataframe tbody tr th:only-of-type {\n",
       "        vertical-align: middle;\n",
       "    }\n",
       "\n",
       "    .dataframe tbody tr th {\n",
       "        vertical-align: top;\n",
       "    }\n",
       "\n",
       "    .dataframe thead th {\n",
       "        text-align: right;\n",
       "    }\n",
       "</style>\n",
       "<table border=\"1\" class=\"dataframe\">\n",
       "  <thead>\n",
       "    <tr style=\"text-align: right;\">\n",
       "      <th></th>\n",
       "      <th>Date / Statut</th>\n",
       "      <th>Vol</th>\n",
       "      <th>De</th>\n",
       "      <th>Arrivée Planifiée</th>\n",
       "      <th>Départ</th>\n",
       "      <th>Arrivé</th>\n",
       "      <th>Durée</th>\n",
       "      <th>Unnamed: 7</th>\n",
       "      <th>Unnamed: 8</th>\n",
       "      <th>Unnamed: 9</th>\n",
       "      <th>Unnamed: 10</th>\n",
       "      <th>Unnamed: 11</th>\n",
       "    </tr>\n",
       "  </thead>\n",
       "  <tbody>\n",
       "    <tr>\n",
       "      <th>0</th>\n",
       "      <td>mar, 13. févr 2018 08:01 EST A Atterri</td>\n",
       "      <td>AA1158 AAL1158 American Airlines (AA / AAL)</td>\n",
       "      <td>Fort Lauderdale (FLL / KFLL)</td>\n",
       "      <td>08:01 EST</td>\n",
       "      <td>06:15 EST 15 min retard</td>\n",
       "      <td>07:48 EST 12 min tôt</td>\n",
       "      <td>1h 33m</td>\n",
       "      <td>NaN</td>\n",
       "      <td>NaN</td>\n",
       "      <td>NaN</td>\n",
       "      <td>NaN</td>\n",
       "      <td>NaN</td>\n",
       "    </tr>\n",
       "    <tr>\n",
       "      <th>1</th>\n",
       "      <td>mar, 13. févr 2018 08:30 EST A Atterri</td>\n",
       "      <td>B61509 JBU1509 JetBlue Airways (B6 / JBU)</td>\n",
       "      <td>Fort Lauderdale (FLL / KFLL)</td>\n",
       "      <td>08:30 EST</td>\n",
       "      <td>07:04 EST 24 min retard</td>\n",
       "      <td>08:34 EST 4 min retard</td>\n",
       "      <td>1h 30m</td>\n",
       "      <td>NaN</td>\n",
       "      <td>NaN</td>\n",
       "      <td>NaN</td>\n",
       "      <td>NaN</td>\n",
       "      <td>NaN</td>\n",
       "    </tr>\n",
       "    <tr>\n",
       "      <th>2</th>\n",
       "      <td>mar, 13. févr 2018 08:58 EST A Atterri</td>\n",
       "      <td>NK951 NKS951 Spirit Airlines (NK / NKS)</td>\n",
       "      <td>Fort Lauderdale (FLL / KFLL)</td>\n",
       "      <td>08:58 EST</td>\n",
       "      <td>07:05 EST 5 min retard</td>\n",
       "      <td>08:43 EST 14 min tôt</td>\n",
       "      <td>1h 37m</td>\n",
       "      <td>NaN</td>\n",
       "      <td>NaN</td>\n",
       "      <td>NaN</td>\n",
       "      <td>NaN</td>\n",
       "      <td>NaN</td>\n",
       "    </tr>\n",
       "    <tr>\n",
       "      <th>3</th>\n",
       "      <td>mar, 13. févr 2018 09:14 EST A Atterri</td>\n",
       "      <td>AA377 AAL377 American Airlines (AA / AAL)</td>\n",
       "      <td>Miami (MIA / KMIA)</td>\n",
       "      <td>09:14 EST</td>\n",
       "      <td>07:27 EST 17 min retard</td>\n",
       "      <td>09:00 EST 14 min tôt</td>\n",
       "      <td>1h 32m</td>\n",
       "      <td>NaN</td>\n",
       "      <td>NaN</td>\n",
       "      <td>NaN</td>\n",
       "      <td>NaN</td>\n",
       "      <td>NaN</td>\n",
       "    </tr>\n",
       "    <tr>\n",
       "      <th>4</th>\n",
       "      <td>(adsbygoogle = window.adsbygoogle || []).push(...</td>\n",
       "      <td>(adsbygoogle = window.adsbygoogle || []).push(...</td>\n",
       "      <td>(adsbygoogle = window.adsbygoogle || []).push(...</td>\n",
       "      <td>(adsbygoogle = window.adsbygoogle || []).push(...</td>\n",
       "      <td>(adsbygoogle = window.adsbygoogle || []).push(...</td>\n",
       "      <td>(adsbygoogle = window.adsbygoogle || []).push(...</td>\n",
       "      <td>(adsbygoogle = window.adsbygoogle || []).push(...</td>\n",
       "      <td>(adsbygoogle = window.adsbygoogle || []).push(...</td>\n",
       "      <td>(adsbygoogle = window.adsbygoogle || []).push(...</td>\n",
       "      <td>(adsbygoogle = window.adsbygoogle || []).push(...</td>\n",
       "      <td>(adsbygoogle = window.adsbygoogle || []).push(...</td>\n",
       "      <td>(adsbygoogle = window.adsbygoogle || []).push(...</td>\n",
       "    </tr>\n",
       "  </tbody>\n",
       "</table>\n",
       "</div>"
      ],
      "text/plain": [
       "                                       Date / Statut  \\\n",
       "0             mar, 13. févr 2018 08:01 EST A Atterri   \n",
       "1             mar, 13. févr 2018 08:30 EST A Atterri   \n",
       "2             mar, 13. févr 2018 08:58 EST A Atterri   \n",
       "3             mar, 13. févr 2018 09:14 EST A Atterri   \n",
       "4  (adsbygoogle = window.adsbygoogle || []).push(...   \n",
       "\n",
       "                                                 Vol  \\\n",
       "0        AA1158 AAL1158 American Airlines (AA / AAL)   \n",
       "1          B61509 JBU1509 JetBlue Airways (B6 / JBU)   \n",
       "2            NK951 NKS951 Spirit Airlines (NK / NKS)   \n",
       "3          AA377 AAL377 American Airlines (AA / AAL)   \n",
       "4  (adsbygoogle = window.adsbygoogle || []).push(...   \n",
       "\n",
       "                                                  De  \\\n",
       "0                       Fort Lauderdale (FLL / KFLL)   \n",
       "1                       Fort Lauderdale (FLL / KFLL)   \n",
       "2                       Fort Lauderdale (FLL / KFLL)   \n",
       "3                                 Miami (MIA / KMIA)   \n",
       "4  (adsbygoogle = window.adsbygoogle || []).push(...   \n",
       "\n",
       "                                   Arrivée Planifiée  \\\n",
       "0                                          08:01 EST   \n",
       "1                                          08:30 EST   \n",
       "2                                          08:58 EST   \n",
       "3                                          09:14 EST   \n",
       "4  (adsbygoogle = window.adsbygoogle || []).push(...   \n",
       "\n",
       "                                              Départ  \\\n",
       "0                            06:15 EST 15 min retard   \n",
       "1                            07:04 EST 24 min retard   \n",
       "2                             07:05 EST 5 min retard   \n",
       "3                            07:27 EST 17 min retard   \n",
       "4  (adsbygoogle = window.adsbygoogle || []).push(...   \n",
       "\n",
       "                                              Arrivé  \\\n",
       "0                               07:48 EST 12 min tôt   \n",
       "1                             08:34 EST 4 min retard   \n",
       "2                               08:43 EST 14 min tôt   \n",
       "3                               09:00 EST 14 min tôt   \n",
       "4  (adsbygoogle = window.adsbygoogle || []).push(...   \n",
       "\n",
       "                                               Durée  \\\n",
       "0                                             1h 33m   \n",
       "1                                             1h 30m   \n",
       "2                                             1h 37m   \n",
       "3                                             1h 32m   \n",
       "4  (adsbygoogle = window.adsbygoogle || []).push(...   \n",
       "\n",
       "                                          Unnamed: 7  \\\n",
       "0                                                NaN   \n",
       "1                                                NaN   \n",
       "2                                                NaN   \n",
       "3                                                NaN   \n",
       "4  (adsbygoogle = window.adsbygoogle || []).push(...   \n",
       "\n",
       "                                          Unnamed: 8  \\\n",
       "0                                                NaN   \n",
       "1                                                NaN   \n",
       "2                                                NaN   \n",
       "3                                                NaN   \n",
       "4  (adsbygoogle = window.adsbygoogle || []).push(...   \n",
       "\n",
       "                                          Unnamed: 9  \\\n",
       "0                                                NaN   \n",
       "1                                                NaN   \n",
       "2                                                NaN   \n",
       "3                                                NaN   \n",
       "4  (adsbygoogle = window.adsbygoogle || []).push(...   \n",
       "\n",
       "                                         Unnamed: 10  \\\n",
       "0                                                NaN   \n",
       "1                                                NaN   \n",
       "2                                                NaN   \n",
       "3                                                NaN   \n",
       "4  (adsbygoogle = window.adsbygoogle || []).push(...   \n",
       "\n",
       "                                         Unnamed: 11  \n",
       "0                                                NaN  \n",
       "1                                                NaN  \n",
       "2                                                NaN  \n",
       "3                                                NaN  \n",
       "4  (adsbygoogle = window.adsbygoogle || []).push(...  "
      ]
     },
     "execution_count": 5,
     "metadata": {},
     "output_type": "execute_result"
    }
   ],
   "source": [
    "url = r'https://www.flightera.net/fr/airport/Port-au-Prince/MTPP/arrival/2018-02-13%2000_00?'\n",
    "headers = {'User-Agent': 'Mozilla/5.0 (Macintosh; Intel Mac OS X 10_11_5) AppleWebKit/537.36 (KHTML, like Gecko) Chrome/50.0.2661.102 Safari/537.36'}\n",
    "r = requests.get(url, headers = headers)\n",
    "df_list = pd.read_html(r.text) # this parses all the tables in webpages to a list\n",
    "df = df_list[0]\n",
    "df.head()"
   ]
  },
  {
   "cell_type": "code",
   "execution_count": 6,
   "metadata": {},
   "outputs": [
    {
     "data": {
      "text/plain": [
       "(36, 12)"
      ]
     },
     "execution_count": 6,
     "metadata": {},
     "output_type": "execute_result"
    }
   ],
   "source": [
    "df.shape"
   ]
  },
  {
   "cell_type": "code",
   "execution_count": null,
   "metadata": {},
   "outputs": [],
   "source": []
  },
  {
   "cell_type": "code",
   "execution_count": 15,
   "metadata": {},
   "outputs": [
    {
     "data": {
      "text/plain": [
       "(226, 12)"
      ]
     },
     "execution_count": 15,
     "metadata": {},
     "output_type": "execute_result"
    }
   ],
   "source": [
    "url = r'https://www.flightera.net/fr/airport/Port-au-Prince/MTPP/arrival/2018-02-18%2000_00?'\n",
    "headers = {'User-Agent': 'Mozilla/5.0 (Macintosh; Intel Mac OS X 10_11_5) AppleWebKit/537.36 (KHTML, like Gecko) Chrome/50.0.2661.102 Safari/537.36'}\n",
    "\n",
    "r = requests.get(url, headers = headers)\n",
    "df_list = pd.read_html(r.text) # this parses all the tables in webpages to a list\n",
    "df = pd.concat([df, df_list[0]], ignore_index=True)\n",
    "df.shape\n"
   ]
  },
  {
   "cell_type": "markdown",
   "metadata": {},
   "source": [
    "### "
   ]
  },
  {
   "cell_type": "code",
   "execution_count": null,
   "metadata": {},
   "outputs": [],
   "source": []
  },
  {
   "cell_type": "code",
   "execution_count": 17,
   "metadata": {},
   "outputs": [
    {
     "data": {
      "text/plain": [
       "(262, 12)"
      ]
     },
     "execution_count": 17,
     "metadata": {},
     "output_type": "execute_result"
    }
   ],
   "source": [
    "url = r'https://www.flightera.net/fr/airport/Port-au-Prince/MTPP/arrival/2018-02-19%2000_00?'\n",
    "headers = {'User-Agent': 'Mozilla/5.0 (Macintosh; Intel Mac OS X 10_11_5) AppleWebKit/537.36 (KHTML, like Gecko) Chrome/50.0.2661.102 Safari/537.36'}\n",
    "\n",
    "r = requests.get(url, headers = headers)\n",
    "df_list = pd.read_html(r.text) # this parses all the tables in webpages to a list\n",
    "df = pd.concat([df, df_list[0]], ignore_index=True)\n",
    "df.shape"
   ]
  },
  {
   "cell_type": "code",
   "execution_count": 401,
   "metadata": {},
   "outputs": [],
   "source": [
    "df.to_csv('airplane2.csv', index = False)"
   ]
  },
  {
   "cell_type": "code",
   "execution_count": null,
   "metadata": {},
   "outputs": [],
   "source": []
  }
 ],
 "metadata": {
  "kernelspec": {
   "display_name": "Python 3",
   "language": "python",
   "name": "python3"
  },
  "language_info": {
   "codemirror_mode": {
    "name": "ipython",
    "version": 3
   },
   "file_extension": ".py",
   "mimetype": "text/x-python",
   "name": "python",
   "nbconvert_exporter": "python",
   "pygments_lexer": "ipython3",
   "version": "3.8.2"
  }
 },
 "nbformat": 4,
 "nbformat_minor": 4
}
