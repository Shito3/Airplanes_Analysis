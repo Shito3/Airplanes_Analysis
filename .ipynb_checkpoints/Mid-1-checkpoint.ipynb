{
 "cells": [
  {
   "cell_type": "markdown",
   "metadata": {},
   "source": [
    "* 1. NOM  : MARCELIN\n",
    "* 2. PRENOM: Yvel\n",
    "* 3. EMAIL: marvelfdsamazon@gmail.com   \n",
    "\n",
    "# MID-PROJECT 1  PGP ML&AI Eduraka & NIT WARANGAL"
   ]
  },
  {
   "cell_type": "markdown",
   "metadata": {},
   "source": [
    "# BACKGROUND  "
   ]
  },
  {
   "cell_type": "markdown",
   "metadata": {},
   "source": [
    "Cab booking system is the process where renting a cab is automated through an app \n",
    "throughout a city. Using this app, people can book a cab from one location to another location.  \n",
    "Being a cab booking app company, exploiting the understanding of cab supply and demand \n",
    "could increase the efficiency of their service and enhance user experience by minimizing \n",
    "waiting time. \n",
    "\n",
    "Objective of this project is to combine historical usage pattern along with the open data sources \n",
    "like weather data to forecast cab booking demand in a city."
   ]
  },
  {
   "cell_type": "markdown",
   "metadata": {},
   "source": [
    "# PROCESS FLOW "
   ]
  },
  {
   "cell_type": "markdown",
   "metadata": {},
   "source": [
    "You will be provided with hourly renting data span of two years. Data is randomly divided into \n",
    "train and test set. You must predict the total count of cabs booked in each hour covered by the \n",
    "test set, using the information available prior to the booking period. You need to append the \n",
    "train_label dataset to train.csv as ‘Total_booking’ column. \n",
    " \n",
    "Please find the descriptions of the columns present in the dataset as below. \n",
    "* datetime - hourly date + timestamp   \n",
    "* season -  spring, summer, autumn, winter  \n",
    "* holiday - whether the day is considered a holiday \n",
    "* workingday - whether the day is neither a weekend nor holiday \n",
    "* weather - Clear , Cloudy,  Light Rain, Heavy temp - temperature in Celsius \n",
    "* atemp - \"feels like\" temperature in Celsius \n",
    "* humidity - relative humidity \n",
    "* windspeed - wind speed \n",
    "* Total_booking - number of total booking "
   ]
  },
  {
   "cell_type": "markdown",
   "metadata": {},
   "source": [
    "# TARGET ENVIRONMENT "
   ]
  },
  {
   "cell_type": "markdown",
   "metadata": {},
   "source": [
    "You can use Edureka’s CloudLab, a cloud-based Jupyter Notebook, which is pre-installed \n",
    "with Python and other required packages to work on this Project. It is offered by Edureka as \n",
    "a part of the course, where you can execute all the demos and work on the projects hassle\n",
    "free."
   ]
  },
  {
   "cell_type": "markdown",
   "metadata": {},
   "source": [
    "# TASKS "
   ]
  },
  {
   "cell_type": "markdown",
   "metadata": {},
   "source": [
    "# Task 1: \n",
    "* 1. Visualize data using different visualizations to generate interesting insights. \n",
    "* 2. Outlier Analysis \n",
    "* 3. Missing value analysis \n",
    "* 4. Visualizing Total_booking Vs other features to generate insights \n",
    "* 5. Correlation Analysis \n",
    " \n",
    "# Task 2: \n",
    "* 1. Feature Engineering \n",
    "* 2. Grid search \n",
    "* 3. Regression Analysis \n",
    "* 4. Ensemble Model "
   ]
  },
  {
   "cell_type": "markdown",
   "metadata": {},
   "source": [
    "# Importing Libraries"
   ]
  },
  {
   "cell_type": "code",
   "execution_count": 6,
   "metadata": {},
   "outputs": [],
   "source": [
    "import pandas as pd;\n",
    "import numpy as np;\n",
    "import matplotlib.pyplot as plt\n",
    "import sklearn.preprocessing \n",
    "import seaborn as sns\n",
    "\n",
    "\n",
    "from sklearn.preprocessing import StandardScaler,LabelEncoder\n",
    "from sklearn.model_selection import cross_val_score, cross_val_predict\n",
    "from sklearn.model_selection import train_test_split\n",
    "####\n",
    "from sklearn.metrics import classification_report\n",
    "from sklearn.metrics import accuracy_score,r2_score\n",
    "from sklearn.metrics import f1_score\n",
    "from sklearn.metrics import mean_squared_error\n",
    "\n",
    "#####\n",
    "from sklearn.linear_model import Lasso,Ridge, LinearRegression\n",
    "from sklearn.ensemble import GradientBoostingRegressor,AdaBoostRegressor,RandomForestRegressor\n",
    "\n",
    "\n",
    "%config IPCompleter.greedy=True\n",
    "%matplotlib inline"
   ]
  },
  {
   "cell_type": "markdown",
   "metadata": {},
   "source": [
    "# Data Preprocessinng"
   ]
  },
  {
   "cell_type": "markdown",
   "metadata": {},
   "source": [
    " * ### Reads training data from csv file"
   ]
  },
  {
   "cell_type": "code",
   "execution_count": 7,
   "metadata": {},
   "outputs": [
    {
     "data": {
      "text/html": [
       "<div>\n",
       "<style scoped>\n",
       "    .dataframe tbody tr th:only-of-type {\n",
       "        vertical-align: middle;\n",
       "    }\n",
       "\n",
       "    .dataframe tbody tr th {\n",
       "        vertical-align: top;\n",
       "    }\n",
       "\n",
       "    .dataframe thead th {\n",
       "        text-align: right;\n",
       "    }\n",
       "</style>\n",
       "<table border=\"1\" class=\"dataframe\">\n",
       "  <thead>\n",
       "    <tr style=\"text-align: right;\">\n",
       "      <th></th>\n",
       "      <th>datetime</th>\n",
       "      <th>season</th>\n",
       "      <th>holiday</th>\n",
       "      <th>workingday</th>\n",
       "      <th>weather</th>\n",
       "      <th>temp</th>\n",
       "      <th>atemp</th>\n",
       "      <th>humidity</th>\n",
       "      <th>windspeed</th>\n",
       "      <th>month</th>\n",
       "      <th>weekday</th>\n",
       "      <th>day</th>\n",
       "      <th>hour</th>\n",
       "      <th>booking</th>\n",
       "    </tr>\n",
       "  </thead>\n",
       "  <tbody>\n",
       "    <tr>\n",
       "      <th>0</th>\n",
       "      <td>5/2/2012 19:00</td>\n",
       "      <td>Summer</td>\n",
       "      <td>0</td>\n",
       "      <td>1</td>\n",
       "      <td>Clear + Few clouds</td>\n",
       "      <td>22.14</td>\n",
       "      <td>25.760</td>\n",
       "      <td>77</td>\n",
       "      <td>16.9979</td>\n",
       "      <td>5</td>\n",
       "      <td>2</td>\n",
       "      <td>2</td>\n",
       "      <td>19</td>\n",
       "      <td>504</td>\n",
       "    </tr>\n",
       "    <tr>\n",
       "      <th>1</th>\n",
       "      <td>9/5/2012 4:00</td>\n",
       "      <td>Fall</td>\n",
       "      <td>0</td>\n",
       "      <td>1</td>\n",
       "      <td>Clear + Few clouds</td>\n",
       "      <td>28.70</td>\n",
       "      <td>33.335</td>\n",
       "      <td>79</td>\n",
       "      <td>19.0012</td>\n",
       "      <td>9</td>\n",
       "      <td>2</td>\n",
       "      <td>5</td>\n",
       "      <td>4</td>\n",
       "      <td>5</td>\n",
       "    </tr>\n",
       "    <tr>\n",
       "      <th>2</th>\n",
       "      <td>1/13/2011 9:00</td>\n",
       "      <td>Spring</td>\n",
       "      <td>0</td>\n",
       "      <td>1</td>\n",
       "      <td>Clear + Few clouds</td>\n",
       "      <td>5.74</td>\n",
       "      <td>6.060</td>\n",
       "      <td>50</td>\n",
       "      <td>22.0028</td>\n",
       "      <td>1</td>\n",
       "      <td>3</td>\n",
       "      <td>13</td>\n",
       "      <td>9</td>\n",
       "      <td>139</td>\n",
       "    </tr>\n",
       "    <tr>\n",
       "      <th>3</th>\n",
       "      <td>11/18/2011 16:00</td>\n",
       "      <td>Winter</td>\n",
       "      <td>0</td>\n",
       "      <td>1</td>\n",
       "      <td>Clear + Few clouds</td>\n",
       "      <td>13.94</td>\n",
       "      <td>16.665</td>\n",
       "      <td>29</td>\n",
       "      <td>8.9981</td>\n",
       "      <td>11</td>\n",
       "      <td>4</td>\n",
       "      <td>18</td>\n",
       "      <td>16</td>\n",
       "      <td>209</td>\n",
       "    </tr>\n",
       "    <tr>\n",
       "      <th>4</th>\n",
       "      <td>9/13/2011 13:00</td>\n",
       "      <td>Fall</td>\n",
       "      <td>0</td>\n",
       "      <td>1</td>\n",
       "      <td>Clear + Few clouds</td>\n",
       "      <td>30.34</td>\n",
       "      <td>33.335</td>\n",
       "      <td>51</td>\n",
       "      <td>19.0012</td>\n",
       "      <td>9</td>\n",
       "      <td>1</td>\n",
       "      <td>13</td>\n",
       "      <td>13</td>\n",
       "      <td>184</td>\n",
       "    </tr>\n",
       "  </tbody>\n",
       "</table>\n",
       "</div>"
      ],
      "text/plain": [
       "           datetime  season  holiday  workingday              weather   temp  \\\n",
       "0    5/2/2012 19:00  Summer        0           1   Clear + Few clouds  22.14   \n",
       "1     9/5/2012 4:00    Fall        0           1   Clear + Few clouds  28.70   \n",
       "2    1/13/2011 9:00  Spring        0           1   Clear + Few clouds   5.74   \n",
       "3  11/18/2011 16:00  Winter        0           1   Clear + Few clouds  13.94   \n",
       "4   9/13/2011 13:00    Fall        0           1   Clear + Few clouds  30.34   \n",
       "\n",
       "    atemp  humidity  windspeed  month  weekday  day  hour  booking  \n",
       "0  25.760        77    16.9979      5        2    2    19      504  \n",
       "1  33.335        79    19.0012      9        2    5     4        5  \n",
       "2   6.060        50    22.0028      1        3   13     9      139  \n",
       "3  16.665        29     8.9981     11        4   18    16      209  \n",
       "4  33.335        51    19.0012      9        1   13    13      184  "
      ]
     },
     "execution_count": 7,
     "metadata": {},
     "output_type": "execute_result"
    }
   ],
   "source": [
    "train = pd.read_csv('train.csv')\n",
    "train_label = pd.read_csv('train_label.csv',header =None,date_parser=True)\n",
    "train['month'] = pd.DatetimeIndex(train['datetime']).month\n",
    "train['weekday'] = pd.DatetimeIndex(train['datetime']).weekday\n",
    "train['day'] = pd.DatetimeIndex(train['datetime']).day\n",
    "train['hour'] = pd.DatetimeIndex(train['datetime']).hour\n",
    "train['booking'] = train_label\n",
    "train.head()"
   ]
  },
  {
   "cell_type": "markdown",
   "metadata": {},
   "source": [
    "* ### Reads testing data from csv file"
   ]
  },
  {
   "cell_type": "code",
   "execution_count": 8,
   "metadata": {},
   "outputs": [
    {
     "data": {
      "text/html": [
       "<div>\n",
       "<style scoped>\n",
       "    .dataframe tbody tr th:only-of-type {\n",
       "        vertical-align: middle;\n",
       "    }\n",
       "\n",
       "    .dataframe tbody tr th {\n",
       "        vertical-align: top;\n",
       "    }\n",
       "\n",
       "    .dataframe thead th {\n",
       "        text-align: right;\n",
       "    }\n",
       "</style>\n",
       "<table border=\"1\" class=\"dataframe\">\n",
       "  <thead>\n",
       "    <tr style=\"text-align: right;\">\n",
       "      <th></th>\n",
       "      <th>datetime</th>\n",
       "      <th>season</th>\n",
       "      <th>holiday</th>\n",
       "      <th>workingday</th>\n",
       "      <th>weather</th>\n",
       "      <th>temp</th>\n",
       "      <th>atemp</th>\n",
       "      <th>humidity</th>\n",
       "      <th>windspeed</th>\n",
       "      <th>month</th>\n",
       "      <th>weekday</th>\n",
       "      <th>day</th>\n",
       "      <th>hour</th>\n",
       "      <th>booking</th>\n",
       "    </tr>\n",
       "  </thead>\n",
       "  <tbody>\n",
       "    <tr>\n",
       "      <th>0</th>\n",
       "      <td>5/10/2012 11:00</td>\n",
       "      <td>Summer</td>\n",
       "      <td>0</td>\n",
       "      <td>1</td>\n",
       "      <td>Clear + Few clouds</td>\n",
       "      <td>21.32</td>\n",
       "      <td>25.000</td>\n",
       "      <td>48</td>\n",
       "      <td>35.0008</td>\n",
       "      <td>5</td>\n",
       "      <td>3</td>\n",
       "      <td>10</td>\n",
       "      <td>11</td>\n",
       "      <td>256</td>\n",
       "    </tr>\n",
       "    <tr>\n",
       "      <th>1</th>\n",
       "      <td>6/9/2012 7:00</td>\n",
       "      <td>Summer</td>\n",
       "      <td>0</td>\n",
       "      <td>0</td>\n",
       "      <td>Clear + Few clouds</td>\n",
       "      <td>23.78</td>\n",
       "      <td>27.275</td>\n",
       "      <td>64</td>\n",
       "      <td>7.0015</td>\n",
       "      <td>6</td>\n",
       "      <td>5</td>\n",
       "      <td>9</td>\n",
       "      <td>7</td>\n",
       "      <td>87</td>\n",
       "    </tr>\n",
       "    <tr>\n",
       "      <th>2</th>\n",
       "      <td>3/6/2011 20:00</td>\n",
       "      <td>Spring</td>\n",
       "      <td>0</td>\n",
       "      <td>0</td>\n",
       "      <td>Light Snow, Light Rain</td>\n",
       "      <td>11.48</td>\n",
       "      <td>12.120</td>\n",
       "      <td>100</td>\n",
       "      <td>27.9993</td>\n",
       "      <td>3</td>\n",
       "      <td>6</td>\n",
       "      <td>6</td>\n",
       "      <td>20</td>\n",
       "      <td>11</td>\n",
       "    </tr>\n",
       "    <tr>\n",
       "      <th>3</th>\n",
       "      <td>10/13/2011 11:00</td>\n",
       "      <td>Winter</td>\n",
       "      <td>0</td>\n",
       "      <td>1</td>\n",
       "      <td>Mist + Cloudy</td>\n",
       "      <td>25.42</td>\n",
       "      <td>28.790</td>\n",
       "      <td>83</td>\n",
       "      <td>0.0000</td>\n",
       "      <td>10</td>\n",
       "      <td>3</td>\n",
       "      <td>13</td>\n",
       "      <td>11</td>\n",
       "      <td>84</td>\n",
       "    </tr>\n",
       "    <tr>\n",
       "      <th>4</th>\n",
       "      <td>6/2/2012 12:00</td>\n",
       "      <td>Summer</td>\n",
       "      <td>0</td>\n",
       "      <td>0</td>\n",
       "      <td>Clear + Few clouds</td>\n",
       "      <td>25.42</td>\n",
       "      <td>31.060</td>\n",
       "      <td>43</td>\n",
       "      <td>23.9994</td>\n",
       "      <td>6</td>\n",
       "      <td>5</td>\n",
       "      <td>2</td>\n",
       "      <td>12</td>\n",
       "      <td>668</td>\n",
       "    </tr>\n",
       "  </tbody>\n",
       "</table>\n",
       "</div>"
      ],
      "text/plain": [
       "           datetime  season  holiday  workingday                  weather  \\\n",
       "0   5/10/2012 11:00  Summer        0           1       Clear + Few clouds   \n",
       "1     6/9/2012 7:00  Summer        0           0       Clear + Few clouds   \n",
       "2    3/6/2011 20:00  Spring        0           0   Light Snow, Light Rain   \n",
       "3  10/13/2011 11:00  Winter        0           1           Mist + Cloudy    \n",
       "4    6/2/2012 12:00  Summer        0           0       Clear + Few clouds   \n",
       "\n",
       "    temp   atemp  humidity  windspeed  month  weekday  day  hour  booking  \n",
       "0  21.32  25.000        48    35.0008      5        3   10    11      256  \n",
       "1  23.78  27.275        64     7.0015      6        5    9     7       87  \n",
       "2  11.48  12.120       100    27.9993      3        6    6    20       11  \n",
       "3  25.42  28.790        83     0.0000     10        3   13    11       84  \n",
       "4  25.42  31.060        43    23.9994      6        5    2    12      668  "
      ]
     },
     "execution_count": 8,
     "metadata": {},
     "output_type": "execute_result"
    }
   ],
   "source": [
    "test = pd.read_csv('test.csv')\n",
    "test_label = pd.read_csv('test_label.csv',header =None,date_parser=True)\n",
    "test['month'] = pd.DatetimeIndex(test['datetime']).month\n",
    "test['weekday'] = pd.DatetimeIndex(test['datetime']).weekday\n",
    "test['day'] = pd.DatetimeIndex(test['datetime']).day\n",
    "test['hour'] = pd.DatetimeIndex(test['datetime']).hour\n",
    "test['booking'] = test_label\n",
    "test.head()"
   ]
  },
  {
   "cell_type": "markdown",
   "metadata": {},
   "source": [
    "* ## Preselects Features && Categorical Variables"
   ]
  },
  {
   "cell_type": "code",
   "execution_count": 9,
   "metadata": {
    "scrolled": false
   },
   "outputs": [
    {
     "data": {
      "text/html": [
       "<div>\n",
       "<style scoped>\n",
       "    .dataframe tbody tr th:only-of-type {\n",
       "        vertical-align: middle;\n",
       "    }\n",
       "\n",
       "    .dataframe tbody tr th {\n",
       "        vertical-align: top;\n",
       "    }\n",
       "\n",
       "    .dataframe thead th {\n",
       "        text-align: right;\n",
       "    }\n",
       "</style>\n",
       "<table border=\"1\" class=\"dataframe\">\n",
       "  <thead>\n",
       "    <tr style=\"text-align: right;\">\n",
       "      <th></th>\n",
       "      <th>season</th>\n",
       "      <th>holiday</th>\n",
       "      <th>workingday</th>\n",
       "      <th>weather</th>\n",
       "      <th>temp</th>\n",
       "      <th>atemp</th>\n",
       "      <th>humidity</th>\n",
       "      <th>windspeed</th>\n",
       "      <th>month</th>\n",
       "      <th>weekday</th>\n",
       "      <th>day</th>\n",
       "      <th>hour</th>\n",
       "      <th>booking</th>\n",
       "    </tr>\n",
       "  </thead>\n",
       "  <tbody>\n",
       "    <tr>\n",
       "      <th>0</th>\n",
       "      <td>Summer</td>\n",
       "      <td>0</td>\n",
       "      <td>1</td>\n",
       "      <td>Clear + Few clouds</td>\n",
       "      <td>22.14</td>\n",
       "      <td>25.760</td>\n",
       "      <td>77</td>\n",
       "      <td>16.9979</td>\n",
       "      <td>5</td>\n",
       "      <td>2</td>\n",
       "      <td>2</td>\n",
       "      <td>19</td>\n",
       "      <td>504</td>\n",
       "    </tr>\n",
       "    <tr>\n",
       "      <th>1</th>\n",
       "      <td>Fall</td>\n",
       "      <td>0</td>\n",
       "      <td>1</td>\n",
       "      <td>Clear + Few clouds</td>\n",
       "      <td>28.70</td>\n",
       "      <td>33.335</td>\n",
       "      <td>79</td>\n",
       "      <td>19.0012</td>\n",
       "      <td>9</td>\n",
       "      <td>2</td>\n",
       "      <td>5</td>\n",
       "      <td>4</td>\n",
       "      <td>5</td>\n",
       "    </tr>\n",
       "    <tr>\n",
       "      <th>2</th>\n",
       "      <td>Spring</td>\n",
       "      <td>0</td>\n",
       "      <td>1</td>\n",
       "      <td>Clear + Few clouds</td>\n",
       "      <td>5.74</td>\n",
       "      <td>6.060</td>\n",
       "      <td>50</td>\n",
       "      <td>22.0028</td>\n",
       "      <td>1</td>\n",
       "      <td>3</td>\n",
       "      <td>13</td>\n",
       "      <td>9</td>\n",
       "      <td>139</td>\n",
       "    </tr>\n",
       "    <tr>\n",
       "      <th>3</th>\n",
       "      <td>Winter</td>\n",
       "      <td>0</td>\n",
       "      <td>1</td>\n",
       "      <td>Clear + Few clouds</td>\n",
       "      <td>13.94</td>\n",
       "      <td>16.665</td>\n",
       "      <td>29</td>\n",
       "      <td>8.9981</td>\n",
       "      <td>11</td>\n",
       "      <td>4</td>\n",
       "      <td>18</td>\n",
       "      <td>16</td>\n",
       "      <td>209</td>\n",
       "    </tr>\n",
       "    <tr>\n",
       "      <th>4</th>\n",
       "      <td>Fall</td>\n",
       "      <td>0</td>\n",
       "      <td>1</td>\n",
       "      <td>Clear + Few clouds</td>\n",
       "      <td>30.34</td>\n",
       "      <td>33.335</td>\n",
       "      <td>51</td>\n",
       "      <td>19.0012</td>\n",
       "      <td>9</td>\n",
       "      <td>1</td>\n",
       "      <td>13</td>\n",
       "      <td>13</td>\n",
       "      <td>184</td>\n",
       "    </tr>\n",
       "  </tbody>\n",
       "</table>\n",
       "</div>"
      ],
      "text/plain": [
       "   season  holiday  workingday              weather   temp   atemp  humidity  \\\n",
       "0  Summer        0           1   Clear + Few clouds  22.14  25.760        77   \n",
       "1    Fall        0           1   Clear + Few clouds  28.70  33.335        79   \n",
       "2  Spring        0           1   Clear + Few clouds   5.74   6.060        50   \n",
       "3  Winter        0           1   Clear + Few clouds  13.94  16.665        29   \n",
       "4    Fall        0           1   Clear + Few clouds  30.34  33.335        51   \n",
       "\n",
       "   windspeed  month  weekday  day  hour  booking  \n",
       "0    16.9979      5        2    2    19      504  \n",
       "1    19.0012      9        2    5     4        5  \n",
       "2    22.0028      1        3   13     9      139  \n",
       "3     8.9981     11        4   18    16      209  \n",
       "4    19.0012      9        1   13    13      184  "
      ]
     },
     "execution_count": 9,
     "metadata": {},
     "output_type": "execute_result"
    }
   ],
   "source": [
    "preselected_features = train.columns[1:]\n",
    "train = train[preselected_features]\n",
    "train.head()"
   ]
  },
  {
   "cell_type": "code",
   "execution_count": 10,
   "metadata": {},
   "outputs": [
    {
     "data": {
      "text/plain": [
       "['season', 'weather']"
      ]
     },
     "execution_count": 10,
     "metadata": {},
     "output_type": "execute_result"
    }
   ],
   "source": [
    "litteral_features = list(train.dtypes[train.dtypes =='object' ].index)\n",
    "litteral_features"
   ]
  },
  {
   "cell_type": "code",
   "execution_count": 15,
   "metadata": {},
   "outputs": [
    {
     "data": {
      "text/plain": [
       "array([2, 0, 1, 3], dtype=int64)"
      ]
     },
     "execution_count": 15,
     "metadata": {},
     "output_type": "execute_result"
    }
   ],
   "source": [
    " train.season.unique()\n"
   ]
  },
  {
   "cell_type": "code",
   "execution_count": 16,
   "metadata": {},
   "outputs": [
    {
     "data": {
      "text/plain": [
       "array([0, 2, 3, 1], dtype=int64)"
      ]
     },
     "execution_count": 16,
     "metadata": {},
     "output_type": "execute_result"
    }
   ],
   "source": [
    "train.weather.unique()"
   ]
  },
  {
   "cell_type": "code",
   "execution_count": 17,
   "metadata": {},
   "outputs": [
    {
     "data": {
      "text/html": [
       "<div>\n",
       "<style scoped>\n",
       "    .dataframe tbody tr th:only-of-type {\n",
       "        vertical-align: middle;\n",
       "    }\n",
       "\n",
       "    .dataframe tbody tr th {\n",
       "        vertical-align: top;\n",
       "    }\n",
       "\n",
       "    .dataframe thead th {\n",
       "        text-align: right;\n",
       "    }\n",
       "</style>\n",
       "<table border=\"1\" class=\"dataframe\">\n",
       "  <thead>\n",
       "    <tr style=\"text-align: right;\">\n",
       "      <th></th>\n",
       "      <th>season</th>\n",
       "      <th>holiday</th>\n",
       "      <th>workingday</th>\n",
       "      <th>weather</th>\n",
       "      <th>temp</th>\n",
       "      <th>atemp</th>\n",
       "      <th>humidity</th>\n",
       "      <th>windspeed</th>\n",
       "      <th>month</th>\n",
       "      <th>weekday</th>\n",
       "      <th>day</th>\n",
       "      <th>hour</th>\n",
       "      <th>booking</th>\n",
       "    </tr>\n",
       "  </thead>\n",
       "  <tbody>\n",
       "    <tr>\n",
       "      <th>0</th>\n",
       "      <td>2</td>\n",
       "      <td>0</td>\n",
       "      <td>1</td>\n",
       "      <td>0</td>\n",
       "      <td>22.14</td>\n",
       "      <td>25.760</td>\n",
       "      <td>77</td>\n",
       "      <td>16.9979</td>\n",
       "      <td>5</td>\n",
       "      <td>2</td>\n",
       "      <td>2</td>\n",
       "      <td>19</td>\n",
       "      <td>504</td>\n",
       "    </tr>\n",
       "    <tr>\n",
       "      <th>1</th>\n",
       "      <td>0</td>\n",
       "      <td>0</td>\n",
       "      <td>1</td>\n",
       "      <td>0</td>\n",
       "      <td>28.70</td>\n",
       "      <td>33.335</td>\n",
       "      <td>79</td>\n",
       "      <td>19.0012</td>\n",
       "      <td>9</td>\n",
       "      <td>2</td>\n",
       "      <td>5</td>\n",
       "      <td>4</td>\n",
       "      <td>5</td>\n",
       "    </tr>\n",
       "    <tr>\n",
       "      <th>2</th>\n",
       "      <td>1</td>\n",
       "      <td>0</td>\n",
       "      <td>1</td>\n",
       "      <td>0</td>\n",
       "      <td>5.74</td>\n",
       "      <td>6.060</td>\n",
       "      <td>50</td>\n",
       "      <td>22.0028</td>\n",
       "      <td>1</td>\n",
       "      <td>3</td>\n",
       "      <td>13</td>\n",
       "      <td>9</td>\n",
       "      <td>139</td>\n",
       "    </tr>\n",
       "    <tr>\n",
       "      <th>3</th>\n",
       "      <td>3</td>\n",
       "      <td>0</td>\n",
       "      <td>1</td>\n",
       "      <td>0</td>\n",
       "      <td>13.94</td>\n",
       "      <td>16.665</td>\n",
       "      <td>29</td>\n",
       "      <td>8.9981</td>\n",
       "      <td>11</td>\n",
       "      <td>4</td>\n",
       "      <td>18</td>\n",
       "      <td>16</td>\n",
       "      <td>209</td>\n",
       "    </tr>\n",
       "    <tr>\n",
       "      <th>4</th>\n",
       "      <td>0</td>\n",
       "      <td>0</td>\n",
       "      <td>1</td>\n",
       "      <td>0</td>\n",
       "      <td>30.34</td>\n",
       "      <td>33.335</td>\n",
       "      <td>51</td>\n",
       "      <td>19.0012</td>\n",
       "      <td>9</td>\n",
       "      <td>1</td>\n",
       "      <td>13</td>\n",
       "      <td>13</td>\n",
       "      <td>184</td>\n",
       "    </tr>\n",
       "  </tbody>\n",
       "</table>\n",
       "</div>"
      ],
      "text/plain": [
       "   season  holiday  workingday  weather   temp   atemp  humidity  windspeed  \\\n",
       "0       2        0           1        0  22.14  25.760        77    16.9979   \n",
       "1       0        0           1        0  28.70  33.335        79    19.0012   \n",
       "2       1        0           1        0   5.74   6.060        50    22.0028   \n",
       "3       3        0           1        0  13.94  16.665        29     8.9981   \n",
       "4       0        0           1        0  30.34  33.335        51    19.0012   \n",
       "\n",
       "   month  weekday  day  hour  booking  \n",
       "0      5        2    2    19      504  \n",
       "1      9        2    5     4        5  \n",
       "2      1        3   13     9      139  \n",
       "3     11        4   18    16      209  \n",
       "4      9        1   13    13      184  "
      ]
     },
     "execution_count": 17,
     "metadata": {},
     "output_type": "execute_result"
    }
   ],
   "source": [
    "labelEncoder = LabelEncoder()\n",
    "values = train[litteral_features].apply(labelEncoder.fit_transform)\n",
    "train[litteral_features] = values\n",
    "train.head()"
   ]
  },
  {
   "cell_type": "code",
   "execution_count": 18,
   "metadata": {},
   "outputs": [
    {
     "data": {
      "text/html": [
       "<div>\n",
       "<style scoped>\n",
       "    .dataframe tbody tr th:only-of-type {\n",
       "        vertical-align: middle;\n",
       "    }\n",
       "\n",
       "    .dataframe tbody tr th {\n",
       "        vertical-align: top;\n",
       "    }\n",
       "\n",
       "    .dataframe thead th {\n",
       "        text-align: right;\n",
       "    }\n",
       "</style>\n",
       "<table border=\"1\" class=\"dataframe\">\n",
       "  <thead>\n",
       "    <tr style=\"text-align: right;\">\n",
       "      <th></th>\n",
       "      <th>datetime</th>\n",
       "      <th>season</th>\n",
       "      <th>holiday</th>\n",
       "      <th>workingday</th>\n",
       "      <th>weather</th>\n",
       "      <th>temp</th>\n",
       "      <th>atemp</th>\n",
       "      <th>humidity</th>\n",
       "      <th>windspeed</th>\n",
       "      <th>month</th>\n",
       "      <th>weekday</th>\n",
       "      <th>day</th>\n",
       "      <th>hour</th>\n",
       "      <th>booking</th>\n",
       "    </tr>\n",
       "  </thead>\n",
       "  <tbody>\n",
       "    <tr>\n",
       "      <th>0</th>\n",
       "      <td>5/10/2012 11:00</td>\n",
       "      <td>2</td>\n",
       "      <td>0</td>\n",
       "      <td>1</td>\n",
       "      <td>0</td>\n",
       "      <td>21.32</td>\n",
       "      <td>25.000</td>\n",
       "      <td>48</td>\n",
       "      <td>35.0008</td>\n",
       "      <td>5</td>\n",
       "      <td>3</td>\n",
       "      <td>10</td>\n",
       "      <td>11</td>\n",
       "      <td>256</td>\n",
       "    </tr>\n",
       "    <tr>\n",
       "      <th>1</th>\n",
       "      <td>6/9/2012 7:00</td>\n",
       "      <td>2</td>\n",
       "      <td>0</td>\n",
       "      <td>0</td>\n",
       "      <td>0</td>\n",
       "      <td>23.78</td>\n",
       "      <td>27.275</td>\n",
       "      <td>64</td>\n",
       "      <td>7.0015</td>\n",
       "      <td>6</td>\n",
       "      <td>5</td>\n",
       "      <td>9</td>\n",
       "      <td>7</td>\n",
       "      <td>87</td>\n",
       "    </tr>\n",
       "    <tr>\n",
       "      <th>2</th>\n",
       "      <td>3/6/2011 20:00</td>\n",
       "      <td>1</td>\n",
       "      <td>0</td>\n",
       "      <td>0</td>\n",
       "      <td>1</td>\n",
       "      <td>11.48</td>\n",
       "      <td>12.120</td>\n",
       "      <td>100</td>\n",
       "      <td>27.9993</td>\n",
       "      <td>3</td>\n",
       "      <td>6</td>\n",
       "      <td>6</td>\n",
       "      <td>20</td>\n",
       "      <td>11</td>\n",
       "    </tr>\n",
       "    <tr>\n",
       "      <th>3</th>\n",
       "      <td>10/13/2011 11:00</td>\n",
       "      <td>3</td>\n",
       "      <td>0</td>\n",
       "      <td>1</td>\n",
       "      <td>2</td>\n",
       "      <td>25.42</td>\n",
       "      <td>28.790</td>\n",
       "      <td>83</td>\n",
       "      <td>0.0000</td>\n",
       "      <td>10</td>\n",
       "      <td>3</td>\n",
       "      <td>13</td>\n",
       "      <td>11</td>\n",
       "      <td>84</td>\n",
       "    </tr>\n",
       "    <tr>\n",
       "      <th>4</th>\n",
       "      <td>6/2/2012 12:00</td>\n",
       "      <td>2</td>\n",
       "      <td>0</td>\n",
       "      <td>0</td>\n",
       "      <td>0</td>\n",
       "      <td>25.42</td>\n",
       "      <td>31.060</td>\n",
       "      <td>43</td>\n",
       "      <td>23.9994</td>\n",
       "      <td>6</td>\n",
       "      <td>5</td>\n",
       "      <td>2</td>\n",
       "      <td>12</td>\n",
       "      <td>668</td>\n",
       "    </tr>\n",
       "  </tbody>\n",
       "</table>\n",
       "</div>"
      ],
      "text/plain": [
       "           datetime  season  holiday  workingday  weather   temp   atemp  \\\n",
       "0   5/10/2012 11:00       2        0           1        0  21.32  25.000   \n",
       "1     6/9/2012 7:00       2        0           0        0  23.78  27.275   \n",
       "2    3/6/2011 20:00       1        0           0        1  11.48  12.120   \n",
       "3  10/13/2011 11:00       3        0           1        2  25.42  28.790   \n",
       "4    6/2/2012 12:00       2        0           0        0  25.42  31.060   \n",
       "\n",
       "   humidity  windspeed  month  weekday  day  hour  booking  \n",
       "0        48    35.0008      5        3   10    11      256  \n",
       "1        64     7.0015      6        5    9     7       87  \n",
       "2       100    27.9993      3        6    6    20       11  \n",
       "3        83     0.0000     10        3   13    11       84  \n",
       "4        43    23.9994      6        5    2    12      668  "
      ]
     },
     "execution_count": 18,
     "metadata": {},
     "output_type": "execute_result"
    }
   ],
   "source": [
    "labelEncoder = LabelEncoder()\n",
    "values = test[litteral_features].apply(labelEncoder.fit_transform)\n",
    "test[litteral_features] = values\n",
    "test.head()"
   ]
  },
  {
   "cell_type": "code",
   "execution_count": 19,
   "metadata": {},
   "outputs": [
    {
     "data": {
      "text/plain": [
       "season          4\n",
       "holiday         2\n",
       "workingday      2\n",
       "weather         4\n",
       "temp           49\n",
       "atemp          60\n",
       "humidity       88\n",
       "windspeed      28\n",
       "month          12\n",
       "weekday         7\n",
       "day            19\n",
       "hour           24\n",
       "booking       797\n",
       "dtype: int64"
      ]
     },
     "execution_count": 19,
     "metadata": {},
     "output_type": "execute_result"
    }
   ],
   "source": [
    "train.nunique()"
   ]
  },
  {
   "cell_type": "markdown",
   "metadata": {},
   "source": [
    "# Task 1:"
   ]
  },
  {
   "cell_type": "markdown",
   "metadata": {},
   "source": [
    "## 1. Visualize data using different visualizations to generate interesting insights. "
   ]
  },
  {
   "cell_type": "code",
   "execution_count": 20,
   "metadata": {},
   "outputs": [
    {
     "name": "stdout",
     "output_type": "stream",
     "text": [
      "<class 'pandas.core.frame.DataFrame'>\n",
      "RangeIndex: 8708 entries, 0 to 8707\n",
      "Data columns (total 13 columns):\n",
      "season        8708 non-null int64\n",
      "holiday       8708 non-null int64\n",
      "workingday    8708 non-null int64\n",
      "weather       8708 non-null int64\n",
      "temp          8708 non-null float64\n",
      "atemp         8708 non-null float64\n",
      "humidity      8708 non-null int64\n",
      "windspeed     8708 non-null float64\n",
      "month         8708 non-null int64\n",
      "weekday       8708 non-null int64\n",
      "day           8708 non-null int64\n",
      "hour          8708 non-null int64\n",
      "booking       8708 non-null int64\n",
      "dtypes: float64(3), int64(10)\n",
      "memory usage: 884.5 KB\n"
     ]
    }
   ],
   "source": [
    "train.info()"
   ]
  },
  {
   "cell_type": "code",
   "execution_count": 21,
   "metadata": {},
   "outputs": [],
   "source": [
    "categorical = ['season','holiday', 'workingday','weather','month','weekday','day','hour']\n",
    "numerical = ['temp','atemp','humidity','windspeed','booking']"
   ]
  },
  {
   "cell_type": "markdown",
   "metadata": {},
   "source": [
    "* ### Numerical variables"
   ]
  },
  {
   "cell_type": "code",
   "execution_count": 397,
   "metadata": {
    "scrolled": true
   },
   "outputs": [],
   "source": [
    "##train[numerical].hist(bins=25,figsize=(25, 5), layout=(1, 4));\n",
    "    "
   ]
  },
  {
   "cell_type": "code",
   "execution_count": 22,
   "metadata": {},
   "outputs": [
    {
     "data": {
      "image/png": "[encoded data removed]",
      "text/plain": [
       "<Figure size 1800x360 with 5 Axes>"
      ]
     },
     "metadata": {
      "needs_background": "light"
     },
     "output_type": "display_data"
    }
   ],
   "source": [
    "fig, ax = plt.subplots(1, 5, figsize=(25, 5))\n",
    "for variable, subplot in zip(numerical, ax.flatten()):\n",
    "    sns.distplot(train[variable], ax=subplot)\n",
    "    for label in subplot.get_xticklabels():\n",
    "        label.set_rotation(90)"
   ]
  },
  {
   "cell_type": "markdown",
   "metadata": {},
   "source": [
    "*  ### 2. Categorical Variables"
   ]
  },
  {
   "cell_type": "code",
   "execution_count": 23,
   "metadata": {
    "scrolled": false
   },
   "outputs": [
    {
     "data": {
      "image/png": "[encoded data removed]",
      "text/plain": [
       "<Figure size 2880x720 with 8 Axes>"
      ]
     },
     "metadata": {
      "needs_background": "light"
     },
     "output_type": "display_data"
    }
   ],
   "source": [
    "fig, ax = plt.subplots(2, 4, figsize=(40, 10))\n",
    "for variable, subplot in zip(categorical, ax.flatten()):\n",
    "    sns.countplot(train[variable], ax=subplot)\n",
    "    for label in subplot.get_xticklabels():\n",
    "        label.set_rotation(90)"
   ]
  },
  {
   "cell_type": "markdown",
   "metadata": {},
   "source": [
    "## 2.Outlier Analysis"
   ]
  },
  {
   "cell_type": "markdown",
   "metadata": {},
   "source": [
    "* ### Numerical Variables"
   ]
  },
  {
   "cell_type": "code",
   "execution_count": 24,
   "metadata": {},
   "outputs": [
    {
     "data": {
      "text/html": [
       "<div>\n",
       "<style scoped>\n",
       "    .dataframe tbody tr th:only-of-type {\n",
       "        vertical-align: middle;\n",
       "    }\n",
       "\n",
       "    .dataframe tbody tr th {\n",
       "        vertical-align: top;\n",
       "    }\n",
       "\n",
       "    .dataframe thead th {\n",
       "        text-align: right;\n",
       "    }\n",
       "</style>\n",
       "<table border=\"1\" class=\"dataframe\">\n",
       "  <thead>\n",
       "    <tr style=\"text-align: right;\">\n",
       "      <th></th>\n",
       "      <th>temp</th>\n",
       "      <th>atemp</th>\n",
       "      <th>humidity</th>\n",
       "      <th>windspeed</th>\n",
       "      <th>booking</th>\n",
       "    </tr>\n",
       "  </thead>\n",
       "  <tbody>\n",
       "    <tr>\n",
       "      <th>count</th>\n",
       "      <td>8708.000000</td>\n",
       "      <td>8708.000000</td>\n",
       "      <td>8708.000000</td>\n",
       "      <td>8708.000000</td>\n",
       "      <td>8708.000000</td>\n",
       "    </tr>\n",
       "    <tr>\n",
       "      <th>mean</th>\n",
       "      <td>20.243020</td>\n",
       "      <td>23.655552</td>\n",
       "      <td>61.649173</td>\n",
       "      <td>12.843891</td>\n",
       "      <td>193.007005</td>\n",
       "    </tr>\n",
       "    <tr>\n",
       "      <th>std</th>\n",
       "      <td>7.813494</td>\n",
       "      <td>8.501107</td>\n",
       "      <td>19.199578</td>\n",
       "      <td>8.190314</td>\n",
       "      <td>181.552211</td>\n",
       "    </tr>\n",
       "    <tr>\n",
       "      <th>min</th>\n",
       "      <td>0.820000</td>\n",
       "      <td>0.760000</td>\n",
       "      <td>0.000000</td>\n",
       "      <td>0.000000</td>\n",
       "      <td>1.000000</td>\n",
       "    </tr>\n",
       "    <tr>\n",
       "      <th>25%</th>\n",
       "      <td>13.940000</td>\n",
       "      <td>16.665000</td>\n",
       "      <td>46.000000</td>\n",
       "      <td>7.001500</td>\n",
       "      <td>43.000000</td>\n",
       "    </tr>\n",
       "    <tr>\n",
       "      <th>50%</th>\n",
       "      <td>20.500000</td>\n",
       "      <td>24.240000</td>\n",
       "      <td>61.000000</td>\n",
       "      <td>12.998000</td>\n",
       "      <td>148.000000</td>\n",
       "    </tr>\n",
       "    <tr>\n",
       "      <th>75%</th>\n",
       "      <td>26.240000</td>\n",
       "      <td>31.060000</td>\n",
       "      <td>77.000000</td>\n",
       "      <td>16.997900</td>\n",
       "      <td>286.000000</td>\n",
       "    </tr>\n",
       "    <tr>\n",
       "      <th>max</th>\n",
       "      <td>41.000000</td>\n",
       "      <td>45.455000</td>\n",
       "      <td>100.000000</td>\n",
       "      <td>56.996900</td>\n",
       "      <td>977.000000</td>\n",
       "    </tr>\n",
       "    <tr>\n",
       "      <th>kurt</th>\n",
       "      <td>-0.920463</td>\n",
       "      <td>-0.857699</td>\n",
       "      <td>-0.761145</td>\n",
       "      <td>0.523940</td>\n",
       "      <td>1.311722</td>\n",
       "    </tr>\n",
       "    <tr>\n",
       "      <th>skew</th>\n",
       "      <td>0.000066</td>\n",
       "      <td>-0.110449</td>\n",
       "      <td>-0.080411</td>\n",
       "      <td>0.565611</td>\n",
       "      <td>1.237928</td>\n",
       "    </tr>\n",
       "    <tr>\n",
       "      <th>var</th>\n",
       "      <td>61.050689</td>\n",
       "      <td>72.268812</td>\n",
       "      <td>368.623777</td>\n",
       "      <td>67.081245</td>\n",
       "      <td>32961.205303</td>\n",
       "    </tr>\n",
       "    <tr>\n",
       "      <th>mu-sigma</th>\n",
       "      <td>12.429526</td>\n",
       "      <td>15.154445</td>\n",
       "      <td>42.449596</td>\n",
       "      <td>4.653577</td>\n",
       "      <td>11.454794</td>\n",
       "    </tr>\n",
       "    <tr>\n",
       "      <th>mu+sigma</th>\n",
       "      <td>28.056514</td>\n",
       "      <td>32.156658</td>\n",
       "      <td>80.848751</td>\n",
       "      <td>21.034205</td>\n",
       "      <td>374.559216</td>\n",
       "    </tr>\n",
       "    <tr>\n",
       "      <th>mu-2*sigma</th>\n",
       "      <td>4.616032</td>\n",
       "      <td>6.653339</td>\n",
       "      <td>23.250018</td>\n",
       "      <td>-3.536737</td>\n",
       "      <td>-170.097417</td>\n",
       "    </tr>\n",
       "    <tr>\n",
       "      <th>mu+2*sigma</th>\n",
       "      <td>35.870008</td>\n",
       "      <td>40.657765</td>\n",
       "      <td>100.048328</td>\n",
       "      <td>29.224519</td>\n",
       "      <td>556.111427</td>\n",
       "    </tr>\n",
       "    <tr>\n",
       "      <th>mu-3*sigma</th>\n",
       "      <td>-3.197462</td>\n",
       "      <td>-1.847768</td>\n",
       "      <td>4.050441</td>\n",
       "      <td>-11.727051</td>\n",
       "      <td>-351.649628</td>\n",
       "    </tr>\n",
       "    <tr>\n",
       "      <th>mu+3*sigma</th>\n",
       "      <td>43.683502</td>\n",
       "      <td>49.158871</td>\n",
       "      <td>119.247906</td>\n",
       "      <td>37.414833</td>\n",
       "      <td>737.663638</td>\n",
       "    </tr>\n",
       "    <tr>\n",
       "      <th>lower</th>\n",
       "      <td>-4.510000</td>\n",
       "      <td>-4.927500</td>\n",
       "      <td>-0.500000</td>\n",
       "      <td>-7.993100</td>\n",
       "      <td>-321.500000</td>\n",
       "    </tr>\n",
       "    <tr>\n",
       "      <th>upper</th>\n",
       "      <td>44.690000</td>\n",
       "      <td>52.652500</td>\n",
       "      <td>123.500000</td>\n",
       "      <td>31.992500</td>\n",
       "      <td>650.500000</td>\n",
       "    </tr>\n",
       "  </tbody>\n",
       "</table>\n",
       "</div>"
      ],
      "text/plain": [
       "                   temp        atemp     humidity    windspeed       booking\n",
       "count       8708.000000  8708.000000  8708.000000  8708.000000   8708.000000\n",
       "mean          20.243020    23.655552    61.649173    12.843891    193.007005\n",
       "std            7.813494     8.501107    19.199578     8.190314    181.552211\n",
       "min            0.820000     0.760000     0.000000     0.000000      1.000000\n",
       "25%           13.940000    16.665000    46.000000     7.001500     43.000000\n",
       "50%           20.500000    24.240000    61.000000    12.998000    148.000000\n",
       "75%           26.240000    31.060000    77.000000    16.997900    286.000000\n",
       "max           41.000000    45.455000   100.000000    56.996900    977.000000\n",
       "kurt          -0.920463    -0.857699    -0.761145     0.523940      1.311722\n",
       "skew           0.000066    -0.110449    -0.080411     0.565611      1.237928\n",
       "var           61.050689    72.268812   368.623777    67.081245  32961.205303\n",
       "mu-sigma      12.429526    15.154445    42.449596     4.653577     11.454794\n",
       "mu+sigma      28.056514    32.156658    80.848751    21.034205    374.559216\n",
       "mu-2*sigma     4.616032     6.653339    23.250018    -3.536737   -170.097417\n",
       "mu+2*sigma    35.870008    40.657765   100.048328    29.224519    556.111427\n",
       "mu-3*sigma    -3.197462    -1.847768     4.050441   -11.727051   -351.649628\n",
       "mu+3*sigma    43.683502    49.158871   119.247906    37.414833    737.663638\n",
       "lower         -4.510000    -4.927500    -0.500000    -7.993100   -321.500000\n",
       "upper         44.690000    52.652500   123.500000    31.992500    650.500000"
      ]
     },
     "execution_count": 24,
     "metadata": {},
     "output_type": "execute_result"
    }
   ],
   "source": [
    "statistic = train[numerical].describe()\n",
    "statistic.loc['kurt'] = train[numerical].kurt()\n",
    "statistic.loc['skew'] = train[numerical].skew()\n",
    "statistic.loc['var'] = train[numerical].var()\n",
    "lower =statistic.loc['mean']- statistic.loc['std']\n",
    "upper = statistic.loc['mean']+ statistic.loc['std']\n",
    "statistic.loc['mu-sigma'] = lower\n",
    "statistic.loc['mu+sigma'] = upper\n",
    "lower =statistic.loc['mean']- 2*statistic.loc['std']\n",
    "upper = statistic.loc['mean']+ 2*statistic.loc['std']\n",
    "statistic.loc['mu-2*sigma'] = lower\n",
    "statistic.loc['mu+2*sigma'] = upper\n",
    "lower =statistic.loc['mean']- 3*statistic.loc['std']\n",
    "upper = statistic.loc['mean']+ 3*statistic.loc['std']\n",
    "statistic.loc['mu-3*sigma'] = lower\n",
    "statistic.loc['mu+3*sigma'] = upper\n",
    "q1 = statistic.iloc[4]\n",
    "q3 = statistic.iloc[6]\n",
    "IQR = q3-q1\n",
    "lower  = q1-1.5*IQR\n",
    "upper = q3+1.5*IQR\n",
    "statistic.loc['lower'] = lower\n",
    "statistic.loc['upper'] = upper\n",
    "statistic"
   ]
  },
  {
   "cell_type": "markdown",
   "metadata": {},
   "source": [
    "* ### Categorical variables "
   ]
  },
  {
   "cell_type": "code",
   "execution_count": 25,
   "metadata": {},
   "outputs": [
    {
     "data": {
      "text/html": [
       "<div>\n",
       "<style scoped>\n",
       "    .dataframe tbody tr th:only-of-type {\n",
       "        vertical-align: middle;\n",
       "    }\n",
       "\n",
       "    .dataframe tbody tr th {\n",
       "        vertical-align: top;\n",
       "    }\n",
       "\n",
       "    .dataframe thead th {\n",
       "        text-align: right;\n",
       "    }\n",
       "</style>\n",
       "<table border=\"1\" class=\"dataframe\">\n",
       "  <thead>\n",
       "    <tr style=\"text-align: right;\">\n",
       "      <th></th>\n",
       "      <th>season</th>\n",
       "      <th>holiday</th>\n",
       "      <th>workingday</th>\n",
       "      <th>weather</th>\n",
       "      <th>month</th>\n",
       "      <th>weekday</th>\n",
       "      <th>day</th>\n",
       "      <th>hour</th>\n",
       "    </tr>\n",
       "  </thead>\n",
       "  <tbody>\n",
       "    <tr>\n",
       "      <th>count</th>\n",
       "      <td>8708.000000</td>\n",
       "      <td>8708.000000</td>\n",
       "      <td>8708.000000</td>\n",
       "      <td>8708.000000</td>\n",
       "      <td>8708.000000</td>\n",
       "      <td>8708.000000</td>\n",
       "      <td>8708.000000</td>\n",
       "      <td>8708.000000</td>\n",
       "    </tr>\n",
       "    <tr>\n",
       "      <th>mean</th>\n",
       "      <td>1.502986</td>\n",
       "      <td>0.028480</td>\n",
       "      <td>0.680294</td>\n",
       "      <td>0.939940</td>\n",
       "      <td>6.528709</td>\n",
       "      <td>3.015618</td>\n",
       "      <td>10.009531</td>\n",
       "      <td>11.581190</td>\n",
       "    </tr>\n",
       "    <tr>\n",
       "      <th>std</th>\n",
       "      <td>1.120249</td>\n",
       "      <td>0.166348</td>\n",
       "      <td>0.466389</td>\n",
       "      <td>1.334387</td>\n",
       "      <td>3.440879</td>\n",
       "      <td>2.006246</td>\n",
       "      <td>5.480540</td>\n",
       "      <td>6.890534</td>\n",
       "    </tr>\n",
       "    <tr>\n",
       "      <th>min</th>\n",
       "      <td>0.000000</td>\n",
       "      <td>0.000000</td>\n",
       "      <td>0.000000</td>\n",
       "      <td>0.000000</td>\n",
       "      <td>1.000000</td>\n",
       "      <td>0.000000</td>\n",
       "      <td>1.000000</td>\n",
       "      <td>0.000000</td>\n",
       "    </tr>\n",
       "    <tr>\n",
       "      <th>25%</th>\n",
       "      <td>0.000000</td>\n",
       "      <td>0.000000</td>\n",
       "      <td>0.000000</td>\n",
       "      <td>0.000000</td>\n",
       "      <td>4.000000</td>\n",
       "      <td>1.000000</td>\n",
       "      <td>5.000000</td>\n",
       "      <td>6.000000</td>\n",
       "    </tr>\n",
       "    <tr>\n",
       "      <th>50%</th>\n",
       "      <td>2.000000</td>\n",
       "      <td>0.000000</td>\n",
       "      <td>1.000000</td>\n",
       "      <td>0.000000</td>\n",
       "      <td>7.000000</td>\n",
       "      <td>3.000000</td>\n",
       "      <td>10.000000</td>\n",
       "      <td>12.000000</td>\n",
       "    </tr>\n",
       "    <tr>\n",
       "      <th>75%</th>\n",
       "      <td>3.000000</td>\n",
       "      <td>0.000000</td>\n",
       "      <td>1.000000</td>\n",
       "      <td>3.000000</td>\n",
       "      <td>10.000000</td>\n",
       "      <td>5.000000</td>\n",
       "      <td>15.000000</td>\n",
       "      <td>18.000000</td>\n",
       "    </tr>\n",
       "    <tr>\n",
       "      <th>max</th>\n",
       "      <td>3.000000</td>\n",
       "      <td>1.000000</td>\n",
       "      <td>1.000000</td>\n",
       "      <td>3.000000</td>\n",
       "      <td>12.000000</td>\n",
       "      <td>6.000000</td>\n",
       "      <td>19.000000</td>\n",
       "      <td>23.000000</td>\n",
       "    </tr>\n",
       "    <tr>\n",
       "      <th>kurt</th>\n",
       "      <td>-1.364952</td>\n",
       "      <td>30.160221</td>\n",
       "      <td>-1.402290</td>\n",
       "      <td>-1.321302</td>\n",
       "      <td>-1.210402</td>\n",
       "      <td>-1.257688</td>\n",
       "      <td>-1.208182</td>\n",
       "      <td>-1.188574</td>\n",
       "    </tr>\n",
       "    <tr>\n",
       "      <th>skew</th>\n",
       "      <td>-0.008202</td>\n",
       "      <td>5.670387</td>\n",
       "      <td>-0.773325</td>\n",
       "      <td>0.770115</td>\n",
       "      <td>-0.003196</td>\n",
       "      <td>-0.012548</td>\n",
       "      <td>0.000735</td>\n",
       "      <td>-0.013267</td>\n",
       "    </tr>\n",
       "    <tr>\n",
       "      <th>var</th>\n",
       "      <td>1.254958</td>\n",
       "      <td>0.027672</td>\n",
       "      <td>0.217519</td>\n",
       "      <td>1.780589</td>\n",
       "      <td>11.839649</td>\n",
       "      <td>4.025023</td>\n",
       "      <td>30.036317</td>\n",
       "      <td>47.479453</td>\n",
       "    </tr>\n",
       "    <tr>\n",
       "      <th>mu-sigma</th>\n",
       "      <td>0.382737</td>\n",
       "      <td>-0.137868</td>\n",
       "      <td>0.213905</td>\n",
       "      <td>-0.394447</td>\n",
       "      <td>3.087830</td>\n",
       "      <td>1.009372</td>\n",
       "      <td>4.528992</td>\n",
       "      <td>4.690656</td>\n",
       "    </tr>\n",
       "    <tr>\n",
       "      <th>mu+sigma</th>\n",
       "      <td>2.623235</td>\n",
       "      <td>0.194828</td>\n",
       "      <td>1.146683</td>\n",
       "      <td>2.274327</td>\n",
       "      <td>9.969588</td>\n",
       "      <td>5.021864</td>\n",
       "      <td>15.490071</td>\n",
       "      <td>18.471723</td>\n",
       "    </tr>\n",
       "    <tr>\n",
       "      <th>mu-2*sigma</th>\n",
       "      <td>-0.737513</td>\n",
       "      <td>-0.304216</td>\n",
       "      <td>-0.252485</td>\n",
       "      <td>-1.728834</td>\n",
       "      <td>-0.353049</td>\n",
       "      <td>-0.996874</td>\n",
       "      <td>-0.951548</td>\n",
       "      <td>-2.199877</td>\n",
       "    </tr>\n",
       "    <tr>\n",
       "      <th>mu+2*sigma</th>\n",
       "      <td>3.743484</td>\n",
       "      <td>0.361176</td>\n",
       "      <td>1.613073</td>\n",
       "      <td>3.608715</td>\n",
       "      <td>13.410467</td>\n",
       "      <td>7.028110</td>\n",
       "      <td>20.970611</td>\n",
       "      <td>25.362257</td>\n",
       "    </tr>\n",
       "    <tr>\n",
       "      <th>mu-3*sigma</th>\n",
       "      <td>-1.857762</td>\n",
       "      <td>-0.470564</td>\n",
       "      <td>-0.718874</td>\n",
       "      <td>-3.063221</td>\n",
       "      <td>-3.793928</td>\n",
       "      <td>-3.003120</td>\n",
       "      <td>-6.432088</td>\n",
       "      <td>-9.090411</td>\n",
       "    </tr>\n",
       "    <tr>\n",
       "      <th>mu+3*sigma</th>\n",
       "      <td>4.863733</td>\n",
       "      <td>0.527524</td>\n",
       "      <td>2.079462</td>\n",
       "      <td>4.943102</td>\n",
       "      <td>16.851346</td>\n",
       "      <td>9.034356</td>\n",
       "      <td>26.451151</td>\n",
       "      <td>32.252790</td>\n",
       "    </tr>\n",
       "    <tr>\n",
       "      <th>lower</th>\n",
       "      <td>-4.500000</td>\n",
       "      <td>0.000000</td>\n",
       "      <td>-1.500000</td>\n",
       "      <td>-4.500000</td>\n",
       "      <td>-5.000000</td>\n",
       "      <td>-5.000000</td>\n",
       "      <td>-10.000000</td>\n",
       "      <td>-12.000000</td>\n",
       "    </tr>\n",
       "    <tr>\n",
       "      <th>upper</th>\n",
       "      <td>7.500000</td>\n",
       "      <td>0.000000</td>\n",
       "      <td>2.500000</td>\n",
       "      <td>7.500000</td>\n",
       "      <td>19.000000</td>\n",
       "      <td>11.000000</td>\n",
       "      <td>30.000000</td>\n",
       "      <td>36.000000</td>\n",
       "    </tr>\n",
       "  </tbody>\n",
       "</table>\n",
       "</div>"
      ],
      "text/plain": [
       "                 season      holiday   workingday      weather        month  \\\n",
       "count       8708.000000  8708.000000  8708.000000  8708.000000  8708.000000   \n",
       "mean           1.502986     0.028480     0.680294     0.939940     6.528709   \n",
       "std            1.120249     0.166348     0.466389     1.334387     3.440879   \n",
       "min            0.000000     0.000000     0.000000     0.000000     1.000000   \n",
       "25%            0.000000     0.000000     0.000000     0.000000     4.000000   \n",
       "50%            2.000000     0.000000     1.000000     0.000000     7.000000   \n",
       "75%            3.000000     0.000000     1.000000     3.000000    10.000000   \n",
       "max            3.000000     1.000000     1.000000     3.000000    12.000000   \n",
       "kurt          -1.364952    30.160221    -1.402290    -1.321302    -1.210402   \n",
       "skew          -0.008202     5.670387    -0.773325     0.770115    -0.003196   \n",
       "var            1.254958     0.027672     0.217519     1.780589    11.839649   \n",
       "mu-sigma       0.382737    -0.137868     0.213905    -0.394447     3.087830   \n",
       "mu+sigma       2.623235     0.194828     1.146683     2.274327     9.969588   \n",
       "mu-2*sigma    -0.737513    -0.304216    -0.252485    -1.728834    -0.353049   \n",
       "mu+2*sigma     3.743484     0.361176     1.613073     3.608715    13.410467   \n",
       "mu-3*sigma    -1.857762    -0.470564    -0.718874    -3.063221    -3.793928   \n",
       "mu+3*sigma     4.863733     0.527524     2.079462     4.943102    16.851346   \n",
       "lower         -4.500000     0.000000    -1.500000    -4.500000    -5.000000   \n",
       "upper          7.500000     0.000000     2.500000     7.500000    19.000000   \n",
       "\n",
       "                weekday          day         hour  \n",
       "count       8708.000000  8708.000000  8708.000000  \n",
       "mean           3.015618    10.009531    11.581190  \n",
       "std            2.006246     5.480540     6.890534  \n",
       "min            0.000000     1.000000     0.000000  \n",
       "25%            1.000000     5.000000     6.000000  \n",
       "50%            3.000000    10.000000    12.000000  \n",
       "75%            5.000000    15.000000    18.000000  \n",
       "max            6.000000    19.000000    23.000000  \n",
       "kurt          -1.257688    -1.208182    -1.188574  \n",
       "skew          -0.012548     0.000735    -0.013267  \n",
       "var            4.025023    30.036317    47.479453  \n",
       "mu-sigma       1.009372     4.528992     4.690656  \n",
       "mu+sigma       5.021864    15.490071    18.471723  \n",
       "mu-2*sigma    -0.996874    -0.951548    -2.199877  \n",
       "mu+2*sigma     7.028110    20.970611    25.362257  \n",
       "mu-3*sigma    -3.003120    -6.432088    -9.090411  \n",
       "mu+3*sigma     9.034356    26.451151    32.252790  \n",
       "lower         -5.000000   -10.000000   -12.000000  \n",
       "upper         11.000000    30.000000    36.000000  "
      ]
     },
     "execution_count": 25,
     "metadata": {},
     "output_type": "execute_result"
    }
   ],
   "source": [
    "statistic = train[categorical].describe()\n",
    "statistic.loc['kurt'] = train[categorical].kurt()\n",
    "statistic.loc['skew'] = train[categorical].skew()\n",
    "statistic.loc['var'] = train[categorical].var()\n",
    "lower =statistic.loc['mean']- statistic.loc['std']\n",
    "upper = statistic.loc['mean']+ statistic.loc['std']\n",
    "statistic.loc['mu-sigma'] = lower\n",
    "statistic.loc['mu+sigma'] = upper\n",
    "lower =statistic.loc['mean']- 2*statistic.loc['std']\n",
    "upper = statistic.loc['mean']+ 2*statistic.loc['std']\n",
    "statistic.loc['mu-2*sigma'] = lower\n",
    "statistic.loc['mu+2*sigma'] = upper\n",
    "lower =statistic.loc['mean']- 3*statistic.loc['std']\n",
    "upper = statistic.loc['mean']+ 3*statistic.loc['std']\n",
    "statistic.loc['mu-3*sigma'] = lower\n",
    "statistic.loc['mu+3*sigma'] = upper\n",
    "q1 = statistic.iloc[4]\n",
    "q3 = statistic.iloc[6]\n",
    "IQR = q3-q1\n",
    "lower  = q1-1.5*IQR\n",
    "upper = q3+1.5*IQR\n",
    "statistic.loc['lower'] = lower\n",
    "statistic.loc['upper'] = upper\n",
    "statistic"
   ]
  },
  {
   "cell_type": "markdown",
   "metadata": {},
   "source": [
    "## 3. Missing value analysis "
   ]
  },
  {
   "cell_type": "code",
   "execution_count": 26,
   "metadata": {},
   "outputs": [
    {
     "data": {
      "text/plain": [
       "season        0\n",
       "holiday       0\n",
       "workingday    0\n",
       "weather       0\n",
       "temp          0\n",
       "atemp         0\n",
       "humidity      0\n",
       "windspeed     0\n",
       "month         0\n",
       "weekday       0\n",
       "day           0\n",
       "hour          0\n",
       "booking       0\n",
       "dtype: int64"
      ]
     },
     "execution_count": 26,
     "metadata": {},
     "output_type": "execute_result"
    }
   ],
   "source": [
    "df_bool = train.isna().sum()\n",
    "df_bool"
   ]
  },
  {
   "cell_type": "markdown",
   "metadata": {},
   "source": [
    "## 4. Visualizing Total_booking Vs other features to generate insights "
   ]
  },
  {
   "cell_type": "markdown",
   "metadata": {},
   "source": [
    "* ### Numerical variables"
   ]
  },
  {
   "cell_type": "code",
   "execution_count": 27,
   "metadata": {
    "scrolled": true
   },
   "outputs": [
    {
     "data": {
      "image/png": "[encoded data removed]",
      "text/plain": [
       "<Figure size 1800x360 with 4 Axes>"
      ]
     },
     "metadata": {
      "needs_background": "light"
     },
     "output_type": "display_data"
    }
   ],
   "source": [
    "fig, ax = plt.subplots(1, 4, figsize=(25, 5))\n",
    "for variable, subplot in zip(numerical[:-1], ax.flatten()):\n",
    "    subplot.scatter(x =train[variable],y=train['booking'])\n",
    "    subplot.set(xlabel=variable,ylabel=\"booking\")\n",
    " "
   ]
  },
  {
   "cell_type": "markdown",
   "metadata": {},
   "source": [
    "* ### Categorical variables"
   ]
  },
  {
   "cell_type": "code",
   "execution_count": 28,
   "metadata": {},
   "outputs": [
    {
     "data": {
      "image/png": "[encoded data removed]",
      "text/plain": [
       "<Figure size 1800x720 with 8 Axes>"
      ]
     },
     "metadata": {
      "needs_background": "light"
     },
     "output_type": "display_data"
    }
   ],
   "source": [
    "fig, ax = plt.subplots(2, 4, figsize=(25, 10))\n",
    "for variable, subplot in zip(categorical, ax.flatten()):\n",
    "    data = train.groupby([variable]).booking.mean()\n",
    "    data = data.reset_index()\n",
    "    subplot.bar(data[variable],data.booking)\n",
    "    subplot.set(xlabel=variable,ylabel=\"booking\")"
   ]
  },
  {
   "cell_type": "markdown",
   "metadata": {},
   "source": [
    "* ## 5. Correlation Analysis "
   ]
  },
  {
   "cell_type": "code",
   "execution_count": 29,
   "metadata": {},
   "outputs": [
    {
     "data": {
      "image/png": "[encoded data removed]",
      "text/plain": [
       "<Figure size 1080x1080 with 2 Axes>"
      ]
     },
     "metadata": {
      "needs_background": "light"
     },
     "output_type": "display_data"
    }
   ],
   "source": [
    "plt.figure(figsize = (15,15))\n",
    "sns.heatmap(train.corr(),annot =True, linewidth = 0.6,cmap ='RdBu_r')\n",
    "plt.show()"
   ]
  },
  {
   "cell_type": "code",
   "execution_count": 30,
   "metadata": {},
   "outputs": [],
   "source": [
    "##train.corr()"
   ]
  },
  {
   "cell_type": "markdown",
   "metadata": {},
   "source": [
    "## Insights"
   ]
  },
  {
   "cell_type": "markdown",
   "metadata": {},
   "source": [
    "* 1- booking are usually done in summer\n",
    "* 2- booking are usually made (7h-10h) and (17-20h)\n",
    "* 3- The months booking  are usually made (6-8 months)\n",
    "* 4- booking increase with the temperature incease\n",
    "* 5- There are  significant correlations between [temp, humidity, hour, month] and booking"
   ]
  },
  {
   "cell_type": "markdown",
   "metadata": {},
   "source": [
    "# Task 2: "
   ]
  },
  {
   "cell_type": "markdown",
   "metadata": {},
   "source": [
    " ## 1. Feature Engineering "
   ]
  },
  {
   "cell_type": "code",
   "execution_count": 31,
   "metadata": {},
   "outputs": [
    {
     "data": {
      "text/plain": [
       "LinearRegression(copy_X=True, fit_intercept=True, n_jobs=None, normalize=False)"
      ]
     },
     "execution_count": 31,
     "metadata": {},
     "output_type": "execute_result"
    }
   ],
   "source": [
    "##Selects features that have high Variances && Correlations\n",
    "selected_features = ['temp','humidity','hour','month']\n",
    "X_train = train[selected_features]\n",
    "y_train = train['booking']\n",
    "model = LinearRegression()\n",
    "model.fit(X_train,y_train)"
   ]
  },
  {
   "cell_type": "code",
   "execution_count": 32,
   "metadata": {},
   "outputs": [
    {
     "name": "stdout",
     "output_type": "stream",
     "text": [
      "train scores:  0.3427401674612799\n",
      "test scores:  0.3427401674612799\n"
     ]
    }
   ],
   "source": [
    "X_test = test[selected_features]\n",
    "y_test = test.booking\n",
    "scores1 = model.score(X_test,y_test)\n",
    "print('train scores: ',scores1)\n",
    "scores2 = model.score(X_test,y_test)\n",
    "print('test scores: ',scores2)\n"
   ]
  },
  {
   "cell_type": "code",
   "execution_count": 33,
   "metadata": {},
   "outputs": [
    {
     "name": "stdout",
     "output_type": "stream",
     "text": [
      "train score:  0.3341955268817507\n"
     ]
    }
   ],
   "source": [
    "clf = Lasso(alpha =0.1)\n",
    "clf.fit(X_train,y_train)\n",
    "scores1 = clf.score(X_train,y_train)\n",
    "scores2 = clf.score(X_test,y_test)\n",
    "print('train score: ',scores1)\n",
    "\n",
    "   "
   ]
  },
  {
   "cell_type": "code",
   "execution_count": 34,
   "metadata": {},
   "outputs": [
    {
     "name": "stdout",
     "output_type": "stream",
     "text": [
      "train score:  0.3341955609797692\n"
     ]
    }
   ],
   "source": [
    "clf = Ridge(alpha =1.0)\n",
    "clf.fit(X_train,y_train)\n",
    "scores1 = clf.score(X_train,y_train)\n",
    "scores2 = clf.score(X_test,y_test)\n",
    "print('train score: ',scores1)\n"
   ]
  },
  {
   "cell_type": "code",
   "execution_count": 35,
   "metadata": {},
   "outputs": [],
   "source": [
    "#### Try to use PCA"
   ]
  },
  {
   "cell_type": "code",
   "execution_count": 37,
   "metadata": {},
   "outputs": [],
   "source": [
    "categorical = ['season','holiday', 'workingday','weather','month','weekday','day','hour']\n",
    "numerical = ['temp','atemp','humidity','windspeed']"
   ]
  },
  {
   "cell_type": "code",
   "execution_count": 38,
   "metadata": {},
   "outputs": [
    {
     "data": {
      "text/plain": [
       "(8708, 11)"
      ]
     },
     "execution_count": 38,
     "metadata": {},
     "output_type": "execute_result"
    }
   ],
   "source": [
    "from sklearn.decomposition import PCA\n",
    "pca1 = PCA(n_components = 0.9999)\n",
    "X_train_pca = pca1.fit_transform(train[categorical+numerical])\n",
    "X_train_pca.shape"
   ]
  },
  {
   "cell_type": "code",
   "execution_count": 39,
   "metadata": {},
   "outputs": [
    {
     "data": {
      "text/plain": [
       "array([3.82227e+02, 1.34548e+02, 5.88330e+01, 4.19450e+01, 2.99390e+01,\n",
       "       1.06520e+01, 4.12300e+00, 1.55900e+00, 1.10800e+00, 6.20000e-01,\n",
       "       1.15000e-01])"
      ]
     },
     "execution_count": 39,
     "metadata": {},
     "output_type": "execute_result"
    }
   ],
   "source": [
    "np.round(pca1.explained_variance_,3)"
   ]
  },
  {
   "cell_type": "code",
   "execution_count": 40,
   "metadata": {
    "scrolled": true
   },
   "outputs": [
    {
     "data": {
      "text/plain": [
       "array([0.574, 0.202, 0.088, 0.063, 0.045, 0.016, 0.006, 0.002, 0.002,\n",
       "       0.001, 0.   ])"
      ]
     },
     "execution_count": 40,
     "metadata": {},
     "output_type": "execute_result"
    }
   ],
   "source": [
    "np.round(pca1.explained_variance_ratio_, 3)"
   ]
  },
  {
   "cell_type": "code",
   "execution_count": 41,
   "metadata": {},
   "outputs": [
    {
     "data": {
      "text/plain": [
       "array([0.57418497, 0.776304  , 0.86468407, 0.92769419, 0.97266932,\n",
       "       0.98867032, 0.99486412, 0.99720562, 0.99887043, 0.9998018 ,\n",
       "       0.99997448])"
      ]
     },
     "execution_count": 41,
     "metadata": {},
     "output_type": "execute_result"
    }
   ],
   "source": [
    "pca1.explained_variance_ratio_.cumsum()"
   ]
  },
  {
   "cell_type": "code",
   "execution_count": 42,
   "metadata": {
    "scrolled": true
   },
   "outputs": [
    {
     "name": "stdout",
     "output_type": "stream",
     "text": [
      "scores train: 0.343\n"
     ]
    }
   ],
   "source": [
    "model = LinearRegression()\n",
    "model.fit(X_train_pca,y_train)\n",
    "score1 = model.score(X_train_pca,y_train)\n",
    "print('scores train:',round(score1,3) )\n"
   ]
  },
  {
   "cell_type": "code",
   "execution_count": 46,
   "metadata": {},
   "outputs": [
    {
     "name": "stdout",
     "output_type": "stream",
     "text": [
      "test score:  0.343\n"
     ]
    }
   ],
   "source": [
    "clf = Ridge(alpha =1.0)\n",
    "clf.fit(X_train_pca,y_train)\n",
    "scores1 = clf.score(X_train_pca,y_train)\n",
    "print('test score: ',round(scores2,3))"
   ]
  },
  {
   "cell_type": "markdown",
   "metadata": {},
   "source": [
    "##  Grid search"
   ]
  },
  {
   "cell_type": "code",
   "execution_count": 48,
   "metadata": {},
   "outputs": [
    {
     "name": "stdout",
     "output_type": "stream",
     "text": [
      "score LM : 0.33164883064860284  +/-  0.01787120994834017\n",
      "score Lasso : 0.33165062835966896  +/-  0.01779280861148803\n",
      "score Ridge : 0.33164883957647867  +/-  0.0178711295056176\n"
     ]
    }
   ],
   "source": [
    "lm = LinearRegression()\n",
    "lasso = Lasso(1.0)\n",
    "ridge = Ridge(1.0)\n",
    "\n",
    "scores = cross_val_score(lm, X_train, y_train, cv = 5 ) \n",
    "print('score LM :', np.mean(scores), \" +/- \", np.std(scores) )\n",
    "scores = cross_val_score(lasso, X_train, y_train, cv = 5 ) \n",
    "print('score Lasso :', np.mean(scores), \" +/- \", np.std(scores) )\n",
    "scores = cross_val_score(ridge, X_train, y_train, cv = 5 ) \n",
    "print('score Ridge :', np.mean(scores), \" +/- \", np.std(scores) )"
   ]
  },
  {
   "cell_type": "code",
   "execution_count": 421,
   "metadata": {},
   "outputs": [
    {
     "name": "stdout",
     "output_type": "stream",
     "text": [
      "r2_score lm:  0.3418201021255536\n",
      "r2_score lasso:  0.3418158289051989\n",
      "r2_score ridge:  0.3418201442822568\n"
     ]
    }
   ],
   "source": [
    "predictions = cross_val_predict(lm, X_test, y_test, cv = 5)  \n",
    "accuracy = r2_score(y_test, predictions)\n",
    "print('r2_score lm: ',accuracy)\n",
    "predictions = cross_val_predict(lasso, X_test, y_test, cv = 5)  \n",
    "accuracy = r2_score(y_test, predictions)\n",
    "print('r2_score lasso: ',accuracy)\n",
    "predictions = cross_val_predict(ridge, X_test, y_test, cv = 5)\n",
    "accuracy = r2_score(y_test, predictions)\n",
    "print('r2_score ridge: ',accuracy)"
   ]
  },
  {
   "cell_type": "markdown",
   "metadata": {},
   "source": [
    "### Linear Regression  with ['temp','humidity','hour','month']  is better"
   ]
  },
  {
   "cell_type": "markdown",
   "metadata": {},
   "source": [
    "## PERFORMS ENSEMBLE MODEL"
   ]
  },
  {
   "cell_type": "code",
   "execution_count": 49,
   "metadata": {},
   "outputs": [
    {
     "data": {
      "text/plain": [
       "0.6268629943845019"
      ]
     },
     "execution_count": 49,
     "metadata": {},
     "output_type": "execute_result"
    }
   ],
   "source": [
    "gbr = GradientBoostingRegressor(n_estimators=30000, learning_rate=0.1,max_depth=1, random_state=0, loss='ls')\n",
    "gbr.fit(X_train, y_train)\n",
    "gbr.score(X_test,y_test)"
   ]
  },
  {
   "cell_type": "code",
   "execution_count": 50,
   "metadata": {},
   "outputs": [
    {
     "data": {
      "text/plain": [
       "0.6211003210629893"
      ]
     },
     "execution_count": 50,
     "metadata": {},
     "output_type": "execute_result"
    }
   ],
   "source": [
    "categorical = ['season','holiday', 'workingday','weather','month','weekday','day','hour']\n",
    "numerical = ['temp','atemp','humidity','windspeed']\n",
    "gbr = GradientBoostingRegressor(n_estimators=30000, learning_rate=0.1,max_depth=1, random_state=0, loss='ls')\n",
    "gbr.fit(train[categorical+numerical], y_train)\n",
    "gbr.score(test[categorical+numerical],y_test)"
   ]
  },
  {
   "cell_type": "code",
   "execution_count": 53,
   "metadata": {},
   "outputs": [
    {
     "data": {
      "text/plain": [
       "0.3142647119859082"
      ]
     },
     "execution_count": 53,
     "metadata": {},
     "output_type": "execute_result"
    }
   ],
   "source": [
    "rfr = RandomForestRegressor(n_estimators=30000,max_depth=1, random_state=0)\n",
    "rfr.fit(X_train, y_train)\n",
    "rfr.score(X_test,y_test)"
   ]
  },
  {
   "cell_type": "code",
   "execution_count": 54,
   "metadata": {},
   "outputs": [
    {
     "data": {
      "text/plain": [
       "0.3142647119859082"
      ]
     },
     "execution_count": 54,
     "metadata": {},
     "output_type": "execute_result"
    }
   ],
   "source": [
    "categorical = ['season','holiday', 'workingday','weather','month','weekday','day','hour']\n",
    "numerical = ['temp','atemp','humidity','windspeed']\n",
    "rfr = RandomForestRegressor(n_estimators=30000,max_depth=1, random_state=0)\n",
    "rfr.fit(train[categorical+numerical], y_train)\n",
    "rfr.score(test[categorical+numerical],y_test)"
   ]
  },
  {
   "cell_type": "code",
   "execution_count": 56,
   "metadata": {},
   "outputs": [
    {
     "data": {
      "text/plain": [
       "0.557543006904425"
      ]
     },
     "execution_count": 56,
     "metadata": {},
     "output_type": "execute_result"
    }
   ],
   "source": [
    "abr = AdaBoostRegressor(n_estimators=30000, random_state=3)\n",
    "abr.fit(X_train, y_train)\n",
    "abr.score(X_test,y_test)"
   ]
  },
  {
   "cell_type": "code",
   "execution_count": 57,
   "metadata": {},
   "outputs": [
    {
     "data": {
      "text/plain": [
       "0.5987209989047847"
      ]
     },
     "execution_count": 57,
     "metadata": {},
     "output_type": "execute_result"
    }
   ],
   "source": [
    "categorical = ['season','holiday', 'workingday','weather','month','weekday','day','hour']\n",
    "numerical = ['temp','atemp','humidity','windspeed']\n",
    "abr = AdaBoostRegressor(n_estimators=30000, random_state=3)\n",
    "abr.fit(train[categorical+numerical], y_train)\n",
    "abr.score(test[categorical+numerical],y_test)"
   ]
  },
  {
   "cell_type": "markdown",
   "metadata": {},
   "source": [
    "### GradientBoostingRegressor with features ['temp','humidity','hour','month']  is better"
   ]
  },
  {
   "cell_type": "code",
   "execution_count": 58,
   "metadata": {},
   "outputs": [],
   "source": [
    "gbr = GradientBoostingRegressor(n_estimators=3000, learning_rate=0.1,max_depth=1, random_state=0, loss='ls') \n",
    "abr = AdaBoostRegressor(n_estimators=3000, random_state=3)\n",
    "rfr = RandomForestRegressor(n_estimators=3000,max_depth=1, random_state=0)\n"
   ]
  },
  {
   "cell_type": "code",
   "execution_count": 59,
   "metadata": {},
   "outputs": [
    {
     "name": "stdout",
     "output_type": "stream",
     "text": [
      "GradientBoostingRegressor mean score : 0.6363059982077939  +/-  0.011766813357975532\n",
      "AdaBoostRegressor mean score : 0.5607055341856342  +/-  0.02231258832285466\n"
     ]
    }
   ],
   "source": [
    "score = cross_val_score(gbr, X_train, y_train, cv = 5 ) \n",
    "print('GradientBoostingRegressor mean score :', np.mean(score),\" +/- \" , np.std(score) )\n",
    "score = cross_val_score(abr, X_train, y_train, cv = 5 ) \n",
    "print('AdaBoostRegressor mean score :', np.mean(score),\" +/- \" , np.std(score) )\n"
   ]
  },
  {
   "cell_type": "code",
   "execution_count": null,
   "metadata": {},
   "outputs": [],
   "source": []
  },
  {
   "cell_type": "code",
   "execution_count": null,
   "metadata": {},
   "outputs": [],
   "source": []
  }
 ],
 "metadata": {
  "kernelspec": {
   "display_name": "Python 3",
   "language": "python",
   "name": "python3"
  },
  "language_info": {
   "codemirror_mode": {
    "name": "ipython",
    "version": 3
   },
   "file_extension": ".py",
   "mimetype": "text/x-python",
   "name": "python",
   "nbconvert_exporter": "python",
   "pygments_lexer": "ipython3",
   "version": "3.7.6"
  }
 },
 "nbformat": 4,
 "nbformat_minor": 2
}
