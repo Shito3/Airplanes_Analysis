{
 "cells": [
  {
   "cell_type": "code",
   "execution_count": 19,
   "metadata": {},
   "outputs": [],
   "source": [
    "import pandas as pd\n",
    "import requests"
   ]
  },
  {
   "cell_type": "code",
   "execution_count": 20,
   "metadata": {},
   "outputs": [],
   "source": [
    "### Liste des dates"
   ]
  },
  {
   "cell_type": "code",
   "execution_count": 21,
   "metadata": {},
   "outputs": [],
   "source": [
    "list_d0= list(pd.date_range(start=\"09/18/2017\",end=\"08/06/2020\", freq=\"W\").astype('str'))\n",
    "list_d1= list(pd.date_range(start=\"09/19/2017\",end=\"08/07/2020\", freq=\"W\").astype('str'))\n",
    "list_d2= list(pd.date_range(start=\"09/20/2017\",end=\"08/08/2020\", freq=\"W\").astype('str'))\n",
    "list_d3= list(pd.date_range(start=\"09/21/2017\",end=\"08/09/2020\", freq=\"W\").astype('str'))\n",
    "list_d4= list(pd.date_range(start=\"09/22/2017\",end=\"08/10/2020\", freq=\"W\").astype('str'))\n",
    "list_d5= list(pd.date_range(start=\"09/23/2017\",end=\"08/11/2020\", freq=\"W\").astype('str'))\n",
    "list_d6= list(pd.date_range(start=\"09/24/2017\",end=\"08/12/2020\", freq=\"W\").astype('str'))\n",
    "\n",
    "grde=[list_d0, list_d1,list_d2, list_d3,list_d4, list_d5,list_d6]"
   ]
  },
  {
   "cell_type": "code",
   "execution_count": 22,
   "metadata": {},
   "outputs": [],
   "source": [
    "#generation d'urls base sur une liste de dates\n",
    "def genurls(liste):\n",
    "    urls=[]\n",
    "    for d in liste:\n",
    "        url = r'https://www.flightera.net/fr/airport/Port-au-Prince/MTPP/arrival/{}%2000_00?'.format(d)\n",
    "        urls.append(url)\n",
    "    return urls"
   ]
  },
  {
   "cell_type": "code",
   "execution_count": 23,
   "metadata": {},
   "outputs": [],
   "source": [
    "#repeter cette pour toutes les listes \n",
    "lislist=[]\n",
    "for k in grde:\n",
    "    lislist.append(genurls(k))"
   ]
  },
  {
   "cell_type": "code",
   "execution_count": 24,
   "metadata": {},
   "outputs": [],
   "source": [
    "#scrap\n",
    "def scrap(urls):\n",
    "    df_list=[]\n",
    "    errors_list=[]\n",
    "    for x in urls:\n",
    "        headers = {'User-Agent': 'Mozilla/5.0 (Macintosh; Intel Mac OS X 10_11_5) AppleWebKit/537.36 (KHTML, like Gecko) Chrome/50.0.2661.102 Safari/537.36'}\n",
    "        r=requests.get(x, headers = headers)\n",
    "        try:\n",
    "            df=pd.read_html(r.text)[0]\n",
    "            df_list.append(df)\n",
    "        except:\n",
    "            errors_list.append(x)\n",
    "    return(df_list,errors_list )"
   ]
  },
  {
   "cell_type": "code",
   "execution_count": null,
   "metadata": {},
   "outputs": [],
   "source": [
    "#faire varier l'indice de 0 a 6 pour couvrir tous les jours de la periode\n",
    "first, errors_first=scrap(lislist[0])\n",
    "#Conacatener tous les tableaux en pandas Dataframe obtenus\n",
    "lislist0=pd.concat(first)"
   ]
  },
  {
   "cell_type": "code",
   "execution_count": null,
   "metadata": {},
   "outputs": [],
   "source": []
  },
  {
   "cell_type": "code",
   "execution_count": null,
   "metadata": {},
   "outputs": [],
   "source": []
  },
  {
   "cell_type": "code",
   "execution_count": null,
   "metadata": {},
   "outputs": [],
   "source": []
  }
 ],
 "metadata": {
  "kernelspec": {
   "display_name": "Python 3",
   "language": "python",
   "name": "python3"
  },
  "language_info": {
   "codemirror_mode": {
    "name": "ipython",
    "version": 3
   },
   "file_extension": ".py",
   "mimetype": "text/x-python",
   "name": "python",
   "nbconvert_exporter": "python",
   "pygments_lexer": "ipython3",
   "version": "3.8.5"
  }
 },
 "nbformat": 4,
 "nbformat_minor": 2
}
