{
 "cells": [
  {
   "cell_type": "code",
   "execution_count": 1,
   "metadata": {},
   "outputs": [],
   "source": [
    "# Import the required packages\n",
    "from selenium import webdriver\n",
    "from selenium.webdriver.support.ui import WebDriverWait\n",
    "from webdriver_manager.chrome import ChromeDriverManager\n",
    "from bs4 import BeautifulSoup# Import the required packages\n",
    "\n",
    "import time\n",
    "\n",
    "from selenium.webdriver.support import expected_conditions as EC\n",
    "from selenium.webdriver.common.by import By\n",
    "from selenium.webdriver.support.ui import WebDriverWait as wait\n",
    "\n",
    "from selenium.webdriver.common.action_chains import ActionChains\n",
    "\n",
    "from selenium.common.exceptions import NoSuchElementException\n",
    "import requests\n",
    "import pandas as pd\n"
   ]
  },
  {
   "cell_type": "code",
   "execution_count": 2,
   "metadata": {},
   "outputs": [
    {
     "name": "stderr",
     "output_type": "stream",
     "text": [
      "[WDM] - Current google-chrome version is 84.0.4147\n",
      "[WDM] - Get LATEST driver version for 84.0.4147\n"
     ]
    },
    {
     "name": "stdout",
     "output_type": "stream",
     "text": [
      " \n"
     ]
    },
    {
     "name": "stderr",
     "output_type": "stream",
     "text": [
      "[WDM] - Driver [C:\\Users\\ING Shito3\\.wdm\\drivers\\chromedriver\\win32\\84.0.4147.30\\chromedriver.exe] found in cache\n"
     ]
    }
   ],
   "source": [
    "# install the webdriver\n",
    "browser = webdriver.Chrome(ChromeDriverManager().install())"
   ]
  },
  {
   "cell_type": "code",
   "execution_count": null,
   "metadata": {},
   "outputs": [],
   "source": [
    "# Step 1) Open Chrome\n",
    "# Step 2) Navigate to Flightera\n",
    "browser.get(\"https://www.flightera.net/fr/airport/Port-au-Prince/MTPP/arrival/2017-09-17%2000_00?\")\n",
    "# Step 3) Search the elements theDate,hour and the submitby id\n",
    "theDate = browser.find_element_by_id(\"dt\")\n",
    "hour = browser.find_element_by_id(\"hr\")\n",
    "submit   = browser.find_element_by_id(\"form_submit\")\n",
    "theDate.send_keys(\"2019-11-27\")\n",
    "# Step 4) Click on the submit\n",
    "submit.click()\n",
    "wait = WebDriverWait( browser, 5 )\n",
    "page_title = browser.title\n",
    "print(page_title)"
   ]
  },
  {
   "cell_type": "code",
   "execution_count": null,
   "metadata": {},
   "outputs": [],
   "source": [
    "# Function browse_page to select the date\n",
    "def browse_page(dt):\n",
    "    url = r'https://www.flightera.net/fr/airport/Port-au-Prince/MTPP/arrival/{}%2000_00?'.format(dt)\n",
    "    browser.get(url)\n",
    "    theDate = browser.find_element_by_id(\"dt\")\n",
    "    hour = browser.find_element_by_id(\"hr\")\n",
    "    submit   = browser.find_element_by_id(\"form_submit\")\n",
    "    current_url =browser.current_url\n",
    "    theDate.send_keys( dt)\n",
    "    time.sleep(5)\n",
    "    page_title = browser.title\n",
    "    new_url=browser.current_url\n",
    "    html = browser.page_source\n",
    "    soup = BeautifulSoup(html)\n",
    "    return pd.read_html(html)[0]"
   ]
  },
  {
   "cell_type": "code",
   "execution_count": null,
   "metadata": {},
   "outputs": [],
   "source": [
    "# Test of the function\n",
    "s=browse_page(\"2019-12-03\")\n",
    "s"
   ]
  },
  {
   "cell_type": "code",
   "execution_count": null,
   "metadata": {},
   "outputs": [],
   "source": [
    "# List of dates\n",
    "list_d0= list(pd.date_range(start=\"10/01/2017\",end=\"08/01/2020\").astype('str'))\n",
    "un=[]"
   ]
  },
  {
   "cell_type": "code",
   "execution_count": null,
   "metadata": {},
   "outputs": [],
   "source": [
    "# loop to browse dates\n",
    "for j in list_d0:\n",
    "    un.append(browse_page(j))"
   ]
  },
  {
   "cell_type": "code",
   "execution_count": null,
   "metadata": {},
   "outputs": [],
   "source": [
    "len(un)"
   ]
  },
  {
   "cell_type": "code",
   "execution_count": null,
   "metadata": {},
   "outputs": [],
   "source": [
    "# Concatenation of each page to the previous page\n",
    "k=pd.concat(un)\n",
    "k.shape"
   ]
  },
  {
   "cell_type": "code",
   "execution_count": null,
   "metadata": {},
   "outputs": [],
   "source": [
    "k.tail()"
   ]
  },
  {
   "cell_type": "code",
   "execution_count": null,
   "metadata": {},
   "outputs": [],
   "source": [
    "# Dataframe conversion to CSV\n",
    "k.to_csv(\"k.csv\")"
   ]
  },
  {
   "cell_type": "code",
   "execution_count": null,
   "metadata": {},
   "outputs": [],
   "source": []
  }
 ],
 "metadata": {
  "kernelspec": {
   "display_name": "Python 3",
   "language": "python",
   "name": "python3"
  },
  "language_info": {
   "codemirror_mode": {
    "name": "ipython",
    "version": 3
   },
   "file_extension": ".py",
   "mimetype": "text/x-python",
   "name": "python",
   "nbconvert_exporter": "python",
   "pygments_lexer": "ipython3",
   "version": "3.8.5"
  }
 },
 "nbformat": 4,
 "nbformat_minor": 4
}
